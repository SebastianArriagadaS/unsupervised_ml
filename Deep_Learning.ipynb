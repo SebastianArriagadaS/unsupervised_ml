{
  "nbformat": 4,
  "nbformat_minor": 0,
  "metadata": {
    "colab": {
      "provenance": [],
      "collapsed_sections": [],
      "toc_visible": true,
      "authorship_tag": "ABX9TyOOeScI9/G/1NICA4rydcQ/",
      "include_colab_link": true
    },
    "kernelspec": {
      "name": "python3",
      "display_name": "Python 3"
    },
    "language_info": {
      "name": "python"
    }
  },
  "cells": [
    {
      "cell_type": "markdown",
      "metadata": {
        "id": "view-in-github",
        "colab_type": "text"
      },
      "source": [
        "<a href=\"https://colab.research.google.com/github/SebastianArriagadaS/unsupervised_ml/blob/main/Deep_Learning.ipynb\" target=\"_parent\"><img src=\"https://colab.research.google.com/assets/colab-badge.svg\" alt=\"Open In Colab\"/></a>"
      ]
    },
    {
      "cell_type": "markdown",
      "source": [
        "# Imports "
      ],
      "metadata": {
        "id": "4FdVEcScO6-e"
      }
    },
    {
      "cell_type": "code",
      "source": [
        "import pandas as pd\n",
        "import numpy as np\n",
        "import matplotlib.pyplot as plt\n",
        "import plotly.express as px\n",
        "from sklearn.model_selection import train_test_split\n",
        "from sklearn.preprocessing import OneHotEncoder\n",
        "import statistics as st\n",
        "import seaborn as sns\n",
        "from sklearn.neighbors import KNeighborsRegressor, KNeighborsClassifier\n",
        "import cv2\n",
        "import random"
      ],
      "metadata": {
        "id": "TK_QlnvnF0Np"
      },
      "execution_count": 1,
      "outputs": []
    },
    {
      "cell_type": "code",
      "source": [
        "import tensorflow as tf\n",
        "from tensorflow.keras import Sequential \n",
        "from tensorflow.keras.layers import Conv2D,MaxPool2D,Dropout,Flatten,Dense,BatchNormalization"
      ],
      "metadata": {
        "id": "wmg5uKuLH4qc"
      },
      "execution_count": null,
      "outputs": []
    },
    {
      "cell_type": "code",
      "source": [
        "from tensorflow.keras.preprocessing.image import ImageDataGenerator"
      ],
      "metadata": {
        "id": "2994w-TNO1JD"
      },
      "execution_count": 3,
      "outputs": []
    },
    {
      "cell_type": "code",
      "execution_count": 7,
      "metadata": {
        "colab": {
          "base_uri": "https://localhost:8080/"
        },
        "id": "-Qjub11eFF9A",
        "outputId": "3dd95a5f-a3d7-4b0e-9d04-1cec00c3da6a"
      },
      "outputs": [
        {
          "output_type": "stream",
          "name": "stdout",
          "text": [
            "Mounted at /content/drive\n"
          ]
        }
      ],
      "source": [
        "from google.colab import drive\n",
        "drive.mount('/content/drive')"
      ]
    },
    {
      "cell_type": "code",
      "source": [
        "df_train=pd.read_csv(\"/content/drive/MyDrive/Deep Learning/data/Train.csv\")\n",
        "df_train['Path']=df_train.Path.apply(lambda x: \"/content/drive/MyDrive/Deep Learning/data/\"+x) ## change and normalize path\n",
        "df_train['ClassId']=df_train.ClassId.astype(str)"
      ],
      "metadata": {
        "id": "xsvwg42LI9Xv"
      },
      "execution_count": 8,
      "outputs": []
    },
    {
      "cell_type": "markdown",
      "source": [
        "# Trying with random data"
      ],
      "metadata": {
        "id": "j1gBqGNeOHyu"
      }
    },
    {
      "cell_type": "code",
      "source": [
        "##df_train_small=df_train.head(500) au cas ou \n",
        "c=random.sample((range(len(df_train))), 2000)\n",
        "df_train_small=df_train.iloc[c,:]"
      ],
      "metadata": {
        "id": "ombTb9wiQVWp"
      },
      "execution_count": 9,
      "outputs": []
    },
    {
      "cell_type": "code",
      "source": [
        "def weighted_knn_classification(x_test, x_train, y_train,minlen,k=20):\n",
        "  y_pred=pd.DataFrame(columns=[\"ClassId\"])\n",
        "  for i in x_test.index.to_list():\n",
        "    dist=np.linalg.norm(x_train-x_test.loc[i],axis=1)\n",
        "    indexs=dist.argsort()[:k]\n",
        "    dist=np.sort(dist)[:k]\n",
        "    weights=1./dist\n",
        "    a=np.bincount(y_train.iloc[indexs],weights=weights,minlength=minlen)\n",
        "    class_pred=a.argsort()[-1]\n",
        "    y_pred.loc[i]=class_pred\n",
        "  return y_pred"
      ],
      "metadata": {
        "id": "Sl-Kt6KBg2Wn"
      },
      "execution_count": 11,
      "outputs": []
    },
    {
      "cell_type": "markdown",
      "source": [
        "This is a weighted KNN classification, it means that it counts the K-nearest-neighbors of our data value, and add a \"weight\" to it : the distance. Then, the more a point is to our data point, the more chance it has to be counted in its class (and this is \"logic\" : if you are close to lot of points in the same class, there is a big chance that you are in the same class too)."
      ],
      "metadata": {
        "id": "3CqENpyKMAXu"
      }
    },
    {
      "cell_type": "code",
      "source": [
        "def image_to_feature_vector(image, size=(32, 32)):\n",
        "\t# resize the image to a fixed size, then flatten the image into a list of raw pixel intensities\n",
        "\treturn cv2.resize(image, size).flatten()"
      ],
      "metadata": {
        "id": "2QoZGEzHclf6"
      },
      "execution_count": 12,
      "outputs": []
    },
    {
      "cell_type": "code",
      "source": [
        "def img_to_array(df):\n",
        "  im = cv2.imread(df_train.iloc[0,7])\n",
        "  df_im=image_to_feature_vector(im)\n",
        "  for i in range(1,len(df)):\n",
        "    im = cv2.imread(df_train_small.iloc[i,7]) ## read the image path\n",
        "    im=image_to_feature_vector(im)\n",
        "    df_im=np.vstack([df_im,im])\n",
        "  return(df_im)"
      ],
      "metadata": {
        "id": "9Ce6NxZ7kpaj"
      },
      "execution_count": 13,
      "outputs": []
    },
    {
      "cell_type": "code",
      "source": [
        "df_train_small\n",
        "## data frame of random images flattened."
      ],
      "metadata": {
        "id": "PiC98XCsNeG0"
      },
      "execution_count": null,
      "outputs": []
    },
    {
      "cell_type": "code",
      "source": [
        "%%time \n",
        "#df_im=img_to_array(df_train_small) ## takes 2m30 for 500 images"
      ],
      "metadata": {
        "id": "ZQ4C9kM2NEiR"
      },
      "execution_count": null,
      "outputs": []
    },
    {
      "cell_type": "code",
      "source": [
        "#x_train_small, x_test_small, y_train_small, y_test_small = train_test_split(df_im,df_train_small.iloc[:,6],test_size=0.3)"
      ],
      "metadata": {
        "id": "BB5cPeukHXr3"
      },
      "execution_count": null,
      "outputs": []
    },
    {
      "cell_type": "code",
      "source": [
        "#y_test_small=pd.DataFrame(y_test_small,columns=[\"ClassId\"])\n",
        "#y_test_small=y_test_small.astype(int)"
      ],
      "metadata": {
        "id": "0g6yqIzKImz0"
      },
      "execution_count": null,
      "outputs": []
    },
    {
      "cell_type": "code",
      "source": [
        "#x_train_small=pd.DataFrame(x_train_small)\n",
        "#x_test_small=pd.DataFrame(x_test_small)\n",
        "#y_pred_small=weighted_knn_regression(x_test_small,x_train_small,y_train_small)"
      ],
      "metadata": {
        "id": "CHxdwSMBHfBA"
      },
      "execution_count": null,
      "outputs": []
    },
    {
      "cell_type": "code",
      "source": [
        "#y_test_small.index=range(len(y_test_small))"
      ],
      "metadata": {
        "id": "BwlQn35KI7uH"
      },
      "execution_count": null,
      "outputs": []
    },
    {
      "cell_type": "code",
      "source": [
        "#abs(y_pred_small-y_test_small).value_counts()"
      ],
      "metadata": {
        "id": "w0ySJ6JGHuk5"
      },
      "execution_count": null,
      "outputs": []
    },
    {
      "cell_type": "markdown",
      "source": [
        "As we can see, our classification function is not that good. The main reason could be that our \"random\" data images can disturb the way the algorithm is learning : the KNN classification is based on the distance and the class of a lot of points. If we take random values like in this case, there is a big chance that the data are **scattered**, so it could be difficult to have enough neighbors to have a good estimation of our data point."
      ],
      "metadata": {
        "id": "C6EFb59dMvgm"
      }
    },
    {
      "cell_type": "markdown",
      "source": [
        "# Trying with a reduce dataframe and less classes."
      ],
      "metadata": {
        "id": "ukQWmj9CN6lg"
      }
    },
    {
      "cell_type": "markdown",
      "source": [
        "As we saw previously, the \"random\" way has poor results. Maybe of we take a reduced dataframe, wth 2000 data and less classes (let's say 6 instead of 42), we could have better results. "
      ],
      "metadata": {
        "id": "himK6687OATj"
      }
    },
    {
      "cell_type": "code",
      "source": [
        "df_test=pd.read_csv(\"/content/drive/MyDrive/Deep Learning/data/Test.csv\")\n",
        "df_test['Path']=df_test.Path.apply(lambda x: \"/content/drive/MyDrive/Deep Learning/data/\"+x) ## change and normalize path\n",
        "df_test['ClassId']=df_test.ClassId.astype(str)"
      ],
      "metadata": {
        "id": "al8H89zmQMeE"
      },
      "execution_count": 14,
      "outputs": []
    },
    {
      "cell_type": "code",
      "source": [
        "df_test[\"ClassId\"].value_counts()"
      ],
      "metadata": {
        "colab": {
          "base_uri": "https://localhost:8080/"
        },
        "id": "Atv6GrkGQjwb",
        "outputId": "4d1a9fe7-dcd2-4750-8f8b-c4d8668e2290"
      },
      "execution_count": 15,
      "outputs": [
        {
          "output_type": "execute_result",
          "data": {
            "text/plain": [
              "2     750\n",
              "1     720\n",
              "13    720\n",
              "38    690\n",
              "12    690\n",
              "4     660\n",
              "10    660\n",
              "5     630\n",
              "9     480\n",
              "25    480\n",
              "3     450\n",
              "8     450\n",
              "7     450\n",
              "11    420\n",
              "35    390\n",
              "18    390\n",
              "17    360\n",
              "31    270\n",
              "14    270\n",
              "15    210\n",
              "33    210\n",
              "26    180\n",
              "30    150\n",
              "16    150\n",
              "28    150\n",
              "6     150\n",
              "23    150\n",
              "22    120\n",
              "36    120\n",
              "34    120\n",
              "24     90\n",
              "29     90\n",
              "20     90\n",
              "40     90\n",
              "21     90\n",
              "39     90\n",
              "42     90\n",
              "32     60\n",
              "27     60\n",
              "41     60\n",
              "19     60\n",
              "0      60\n",
              "37     60\n",
              "Name: ClassId, dtype: int64"
            ]
          },
          "metadata": {},
          "execution_count": 15
        }
      ]
    },
    {
      "cell_type": "code",
      "source": [
        "df_train[\"ClassId\"].value_counts()"
      ],
      "metadata": {
        "id": "qmD8Qi76a-wi"
      },
      "execution_count": null,
      "outputs": []
    },
    {
      "cell_type": "markdown",
      "source": [
        "Let's keep the classes 2, 1, 12, 13 and 38, because we have a lot of test values. As we just want for the moment to use a little data (to see if our classification model is \"good\", we will keep around 10% of our test dataframe, and keep around 2000 images from our train dataframe :"
      ],
      "metadata": {
        "id": "3C_MAFCVQvx6"
      }
    },
    {
      "cell_type": "code",
      "source": [
        "list_of_values=[\"1\",\"2\",\"12\",\"13\",\"38\"]\n",
        "df_train_small_2 = df_train[df_train['ClassId'].isin(list_of_values)]\n",
        "df_test_small_2 = df_test[df_test['ClassId'].isin(list_of_values)]"
      ],
      "metadata": {
        "id": "FdCnsvHNXhXD"
      },
      "execution_count": 16,
      "outputs": []
    },
    {
      "cell_type": "code",
      "source": [
        "df_train_small_2.index=range(len(df_train_small_2))\n",
        "df_train_small_2"
      ],
      "metadata": {
        "colab": {
          "base_uri": "https://localhost:8080/",
          "height": 419
        },
        "id": "Bi1BxWkzY5jl",
        "outputId": "d7887adb-160c-4c63-e9ab-a5bf78447e3f"
      },
      "execution_count": 17,
      "outputs": [
        {
          "output_type": "execute_result",
          "data": {
            "text/plain": [
              "       Width  Height  Roi.X1  Roi.Y1  Roi.X2  Roi.Y2 ClassId  \\\n",
              "0         56      57       6       5      51      52       1   \n",
              "1         55      57       5       6      50      52       1   \n",
              "2         56      56       5       6      51      51       1   \n",
              "3         58      58       6       6      53      52       1   \n",
              "4         59      59       6       6      54      53       1   \n",
              "...      ...     ...     ...     ...     ...     ...     ...   \n",
              "10795     72      72       7       7      66      66      38   \n",
              "10796     81      82       7       8      74      75      38   \n",
              "10797     87      93       7       9      80      85      38   \n",
              "10798    107     107       9       9      98      98      38   \n",
              "10799    129     128      11      11     118     117      38   \n",
              "\n",
              "                                                    Path  \n",
              "0      /content/drive/MyDrive/Deep Learning/data/Trai...  \n",
              "1      /content/drive/MyDrive/Deep Learning/data/Trai...  \n",
              "2      /content/drive/MyDrive/Deep Learning/data/Trai...  \n",
              "3      /content/drive/MyDrive/Deep Learning/data/Trai...  \n",
              "4      /content/drive/MyDrive/Deep Learning/data/Trai...  \n",
              "...                                                  ...  \n",
              "10795  /content/drive/MyDrive/Deep Learning/data/Trai...  \n",
              "10796  /content/drive/MyDrive/Deep Learning/data/Trai...  \n",
              "10797  /content/drive/MyDrive/Deep Learning/data/Trai...  \n",
              "10798  /content/drive/MyDrive/Deep Learning/data/Trai...  \n",
              "10799  /content/drive/MyDrive/Deep Learning/data/Trai...  \n",
              "\n",
              "[10800 rows x 8 columns]"
            ],
            "text/html": [
              "\n",
              "  <div id=\"df-d9b2afbc-c635-4d7f-90cb-674bd40ca614\">\n",
              "    <div class=\"colab-df-container\">\n",
              "      <div>\n",
              "<style scoped>\n",
              "    .dataframe tbody tr th:only-of-type {\n",
              "        vertical-align: middle;\n",
              "    }\n",
              "\n",
              "    .dataframe tbody tr th {\n",
              "        vertical-align: top;\n",
              "    }\n",
              "\n",
              "    .dataframe thead th {\n",
              "        text-align: right;\n",
              "    }\n",
              "</style>\n",
              "<table border=\"1\" class=\"dataframe\">\n",
              "  <thead>\n",
              "    <tr style=\"text-align: right;\">\n",
              "      <th></th>\n",
              "      <th>Width</th>\n",
              "      <th>Height</th>\n",
              "      <th>Roi.X1</th>\n",
              "      <th>Roi.Y1</th>\n",
              "      <th>Roi.X2</th>\n",
              "      <th>Roi.Y2</th>\n",
              "      <th>ClassId</th>\n",
              "      <th>Path</th>\n",
              "    </tr>\n",
              "  </thead>\n",
              "  <tbody>\n",
              "    <tr>\n",
              "      <th>0</th>\n",
              "      <td>56</td>\n",
              "      <td>57</td>\n",
              "      <td>6</td>\n",
              "      <td>5</td>\n",
              "      <td>51</td>\n",
              "      <td>52</td>\n",
              "      <td>1</td>\n",
              "      <td>/content/drive/MyDrive/Deep Learning/data/Trai...</td>\n",
              "    </tr>\n",
              "    <tr>\n",
              "      <th>1</th>\n",
              "      <td>55</td>\n",
              "      <td>57</td>\n",
              "      <td>5</td>\n",
              "      <td>6</td>\n",
              "      <td>50</td>\n",
              "      <td>52</td>\n",
              "      <td>1</td>\n",
              "      <td>/content/drive/MyDrive/Deep Learning/data/Trai...</td>\n",
              "    </tr>\n",
              "    <tr>\n",
              "      <th>2</th>\n",
              "      <td>56</td>\n",
              "      <td>56</td>\n",
              "      <td>5</td>\n",
              "      <td>6</td>\n",
              "      <td>51</td>\n",
              "      <td>51</td>\n",
              "      <td>1</td>\n",
              "      <td>/content/drive/MyDrive/Deep Learning/data/Trai...</td>\n",
              "    </tr>\n",
              "    <tr>\n",
              "      <th>3</th>\n",
              "      <td>58</td>\n",
              "      <td>58</td>\n",
              "      <td>6</td>\n",
              "      <td>6</td>\n",
              "      <td>53</td>\n",
              "      <td>52</td>\n",
              "      <td>1</td>\n",
              "      <td>/content/drive/MyDrive/Deep Learning/data/Trai...</td>\n",
              "    </tr>\n",
              "    <tr>\n",
              "      <th>4</th>\n",
              "      <td>59</td>\n",
              "      <td>59</td>\n",
              "      <td>6</td>\n",
              "      <td>6</td>\n",
              "      <td>54</td>\n",
              "      <td>53</td>\n",
              "      <td>1</td>\n",
              "      <td>/content/drive/MyDrive/Deep Learning/data/Trai...</td>\n",
              "    </tr>\n",
              "    <tr>\n",
              "      <th>...</th>\n",
              "      <td>...</td>\n",
              "      <td>...</td>\n",
              "      <td>...</td>\n",
              "      <td>...</td>\n",
              "      <td>...</td>\n",
              "      <td>...</td>\n",
              "      <td>...</td>\n",
              "      <td>...</td>\n",
              "    </tr>\n",
              "    <tr>\n",
              "      <th>10795</th>\n",
              "      <td>72</td>\n",
              "      <td>72</td>\n",
              "      <td>7</td>\n",
              "      <td>7</td>\n",
              "      <td>66</td>\n",
              "      <td>66</td>\n",
              "      <td>38</td>\n",
              "      <td>/content/drive/MyDrive/Deep Learning/data/Trai...</td>\n",
              "    </tr>\n",
              "    <tr>\n",
              "      <th>10796</th>\n",
              "      <td>81</td>\n",
              "      <td>82</td>\n",
              "      <td>7</td>\n",
              "      <td>8</td>\n",
              "      <td>74</td>\n",
              "      <td>75</td>\n",
              "      <td>38</td>\n",
              "      <td>/content/drive/MyDrive/Deep Learning/data/Trai...</td>\n",
              "    </tr>\n",
              "    <tr>\n",
              "      <th>10797</th>\n",
              "      <td>87</td>\n",
              "      <td>93</td>\n",
              "      <td>7</td>\n",
              "      <td>9</td>\n",
              "      <td>80</td>\n",
              "      <td>85</td>\n",
              "      <td>38</td>\n",
              "      <td>/content/drive/MyDrive/Deep Learning/data/Trai...</td>\n",
              "    </tr>\n",
              "    <tr>\n",
              "      <th>10798</th>\n",
              "      <td>107</td>\n",
              "      <td>107</td>\n",
              "      <td>9</td>\n",
              "      <td>9</td>\n",
              "      <td>98</td>\n",
              "      <td>98</td>\n",
              "      <td>38</td>\n",
              "      <td>/content/drive/MyDrive/Deep Learning/data/Trai...</td>\n",
              "    </tr>\n",
              "    <tr>\n",
              "      <th>10799</th>\n",
              "      <td>129</td>\n",
              "      <td>128</td>\n",
              "      <td>11</td>\n",
              "      <td>11</td>\n",
              "      <td>118</td>\n",
              "      <td>117</td>\n",
              "      <td>38</td>\n",
              "      <td>/content/drive/MyDrive/Deep Learning/data/Trai...</td>\n",
              "    </tr>\n",
              "  </tbody>\n",
              "</table>\n",
              "<p>10800 rows × 8 columns</p>\n",
              "</div>\n",
              "      <button class=\"colab-df-convert\" onclick=\"convertToInteractive('df-d9b2afbc-c635-4d7f-90cb-674bd40ca614')\"\n",
              "              title=\"Convert this dataframe to an interactive table.\"\n",
              "              style=\"display:none;\">\n",
              "        \n",
              "  <svg xmlns=\"http://www.w3.org/2000/svg\" height=\"24px\"viewBox=\"0 0 24 24\"\n",
              "       width=\"24px\">\n",
              "    <path d=\"M0 0h24v24H0V0z\" fill=\"none\"/>\n",
              "    <path d=\"M18.56 5.44l.94 2.06.94-2.06 2.06-.94-2.06-.94-.94-2.06-.94 2.06-2.06.94zm-11 1L8.5 8.5l.94-2.06 2.06-.94-2.06-.94L8.5 2.5l-.94 2.06-2.06.94zm10 10l.94 2.06.94-2.06 2.06-.94-2.06-.94-.94-2.06-.94 2.06-2.06.94z\"/><path d=\"M17.41 7.96l-1.37-1.37c-.4-.4-.92-.59-1.43-.59-.52 0-1.04.2-1.43.59L10.3 9.45l-7.72 7.72c-.78.78-.78 2.05 0 2.83L4 21.41c.39.39.9.59 1.41.59.51 0 1.02-.2 1.41-.59l7.78-7.78 2.81-2.81c.8-.78.8-2.07 0-2.86zM5.41 20L4 18.59l7.72-7.72 1.47 1.35L5.41 20z\"/>\n",
              "  </svg>\n",
              "      </button>\n",
              "      \n",
              "  <style>\n",
              "    .colab-df-container {\n",
              "      display:flex;\n",
              "      flex-wrap:wrap;\n",
              "      gap: 12px;\n",
              "    }\n",
              "\n",
              "    .colab-df-convert {\n",
              "      background-color: #E8F0FE;\n",
              "      border: none;\n",
              "      border-radius: 50%;\n",
              "      cursor: pointer;\n",
              "      display: none;\n",
              "      fill: #1967D2;\n",
              "      height: 32px;\n",
              "      padding: 0 0 0 0;\n",
              "      width: 32px;\n",
              "    }\n",
              "\n",
              "    .colab-df-convert:hover {\n",
              "      background-color: #E2EBFA;\n",
              "      box-shadow: 0px 1px 2px rgba(60, 64, 67, 0.3), 0px 1px 3px 1px rgba(60, 64, 67, 0.15);\n",
              "      fill: #174EA6;\n",
              "    }\n",
              "\n",
              "    [theme=dark] .colab-df-convert {\n",
              "      background-color: #3B4455;\n",
              "      fill: #D2E3FC;\n",
              "    }\n",
              "\n",
              "    [theme=dark] .colab-df-convert:hover {\n",
              "      background-color: #434B5C;\n",
              "      box-shadow: 0px 1px 3px 1px rgba(0, 0, 0, 0.15);\n",
              "      filter: drop-shadow(0px 1px 2px rgba(0, 0, 0, 0.3));\n",
              "      fill: #FFFFFF;\n",
              "    }\n",
              "  </style>\n",
              "\n",
              "      <script>\n",
              "        const buttonEl =\n",
              "          document.querySelector('#df-d9b2afbc-c635-4d7f-90cb-674bd40ca614 button.colab-df-convert');\n",
              "        buttonEl.style.display =\n",
              "          google.colab.kernel.accessAllowed ? 'block' : 'none';\n",
              "\n",
              "        async function convertToInteractive(key) {\n",
              "          const element = document.querySelector('#df-d9b2afbc-c635-4d7f-90cb-674bd40ca614');\n",
              "          const dataTable =\n",
              "            await google.colab.kernel.invokeFunction('convertToInteractive',\n",
              "                                                     [key], {});\n",
              "          if (!dataTable) return;\n",
              "\n",
              "          const docLinkHtml = 'Like what you see? Visit the ' +\n",
              "            '<a target=\"_blank\" href=https://colab.research.google.com/notebooks/data_table.ipynb>data table notebook</a>'\n",
              "            + ' to learn more about interactive tables.';\n",
              "          element.innerHTML = '';\n",
              "          dataTable['output_type'] = 'display_data';\n",
              "          await google.colab.output.renderOutput(dataTable, element);\n",
              "          const docLink = document.createElement('div');\n",
              "          docLink.innerHTML = docLinkHtml;\n",
              "          element.appendChild(docLink);\n",
              "        }\n",
              "      </script>\n",
              "    </div>\n",
              "  </div>\n",
              "  "
            ]
          },
          "metadata": {},
          "execution_count": 17
        }
      ]
    },
    {
      "cell_type": "code",
      "source": [
        "df_test_small_2.index=range(len(df_test_small_2))\n",
        "df_test_small_2"
      ],
      "metadata": {
        "colab": {
          "base_uri": "https://localhost:8080/",
          "height": 419
        },
        "id": "50TE6fziaJ1G",
        "outputId": "5dd63f08-2c5d-4df9-a27a-e2f23e0091a4"
      },
      "execution_count": 18,
      "outputs": [
        {
          "output_type": "execute_result",
          "data": {
            "text/plain": [
              "      Width  Height  Roi.X1  Roi.Y1  Roi.X2  Roi.Y2 ClassId  \\\n",
              "0        42      45       5       5      36      40       1   \n",
              "1        48      52       6       6      43      47      38   \n",
              "2        52      56       5       5      47      51      38   \n",
              "3        32      33       5       5      26      28      12   \n",
              "4        38      37       6       5      33      32      12   \n",
              "...     ...     ...     ...     ...     ...     ...     ...   \n",
              "3565     64      64       6       6      59      59      38   \n",
              "3566     34      34       5       5      29      29       1   \n",
              "3567     63      57       6       5      58      52      13   \n",
              "3568     35      35       6       5      29      30      12   \n",
              "3569     42      41       5       6      37      36      12   \n",
              "\n",
              "                                                   Path  \n",
              "0     /content/drive/MyDrive/Deep Learning/data/Test...  \n",
              "1     /content/drive/MyDrive/Deep Learning/data/Test...  \n",
              "2     /content/drive/MyDrive/Deep Learning/data/Test...  \n",
              "3     /content/drive/MyDrive/Deep Learning/data/Test...  \n",
              "4     /content/drive/MyDrive/Deep Learning/data/Test...  \n",
              "...                                                 ...  \n",
              "3565  /content/drive/MyDrive/Deep Learning/data/Test...  \n",
              "3566  /content/drive/MyDrive/Deep Learning/data/Test...  \n",
              "3567  /content/drive/MyDrive/Deep Learning/data/Test...  \n",
              "3568  /content/drive/MyDrive/Deep Learning/data/Test...  \n",
              "3569  /content/drive/MyDrive/Deep Learning/data/Test...  \n",
              "\n",
              "[3570 rows x 8 columns]"
            ],
            "text/html": [
              "\n",
              "  <div id=\"df-ca68bc4f-c96c-4220-a524-570ab688a38f\">\n",
              "    <div class=\"colab-df-container\">\n",
              "      <div>\n",
              "<style scoped>\n",
              "    .dataframe tbody tr th:only-of-type {\n",
              "        vertical-align: middle;\n",
              "    }\n",
              "\n",
              "    .dataframe tbody tr th {\n",
              "        vertical-align: top;\n",
              "    }\n",
              "\n",
              "    .dataframe thead th {\n",
              "        text-align: right;\n",
              "    }\n",
              "</style>\n",
              "<table border=\"1\" class=\"dataframe\">\n",
              "  <thead>\n",
              "    <tr style=\"text-align: right;\">\n",
              "      <th></th>\n",
              "      <th>Width</th>\n",
              "      <th>Height</th>\n",
              "      <th>Roi.X1</th>\n",
              "      <th>Roi.Y1</th>\n",
              "      <th>Roi.X2</th>\n",
              "      <th>Roi.Y2</th>\n",
              "      <th>ClassId</th>\n",
              "      <th>Path</th>\n",
              "    </tr>\n",
              "  </thead>\n",
              "  <tbody>\n",
              "    <tr>\n",
              "      <th>0</th>\n",
              "      <td>42</td>\n",
              "      <td>45</td>\n",
              "      <td>5</td>\n",
              "      <td>5</td>\n",
              "      <td>36</td>\n",
              "      <td>40</td>\n",
              "      <td>1</td>\n",
              "      <td>/content/drive/MyDrive/Deep Learning/data/Test...</td>\n",
              "    </tr>\n",
              "    <tr>\n",
              "      <th>1</th>\n",
              "      <td>48</td>\n",
              "      <td>52</td>\n",
              "      <td>6</td>\n",
              "      <td>6</td>\n",
              "      <td>43</td>\n",
              "      <td>47</td>\n",
              "      <td>38</td>\n",
              "      <td>/content/drive/MyDrive/Deep Learning/data/Test...</td>\n",
              "    </tr>\n",
              "    <tr>\n",
              "      <th>2</th>\n",
              "      <td>52</td>\n",
              "      <td>56</td>\n",
              "      <td>5</td>\n",
              "      <td>5</td>\n",
              "      <td>47</td>\n",
              "      <td>51</td>\n",
              "      <td>38</td>\n",
              "      <td>/content/drive/MyDrive/Deep Learning/data/Test...</td>\n",
              "    </tr>\n",
              "    <tr>\n",
              "      <th>3</th>\n",
              "      <td>32</td>\n",
              "      <td>33</td>\n",
              "      <td>5</td>\n",
              "      <td>5</td>\n",
              "      <td>26</td>\n",
              "      <td>28</td>\n",
              "      <td>12</td>\n",
              "      <td>/content/drive/MyDrive/Deep Learning/data/Test...</td>\n",
              "    </tr>\n",
              "    <tr>\n",
              "      <th>4</th>\n",
              "      <td>38</td>\n",
              "      <td>37</td>\n",
              "      <td>6</td>\n",
              "      <td>5</td>\n",
              "      <td>33</td>\n",
              "      <td>32</td>\n",
              "      <td>12</td>\n",
              "      <td>/content/drive/MyDrive/Deep Learning/data/Test...</td>\n",
              "    </tr>\n",
              "    <tr>\n",
              "      <th>...</th>\n",
              "      <td>...</td>\n",
              "      <td>...</td>\n",
              "      <td>...</td>\n",
              "      <td>...</td>\n",
              "      <td>...</td>\n",
              "      <td>...</td>\n",
              "      <td>...</td>\n",
              "      <td>...</td>\n",
              "    </tr>\n",
              "    <tr>\n",
              "      <th>3565</th>\n",
              "      <td>64</td>\n",
              "      <td>64</td>\n",
              "      <td>6</td>\n",
              "      <td>6</td>\n",
              "      <td>59</td>\n",
              "      <td>59</td>\n",
              "      <td>38</td>\n",
              "      <td>/content/drive/MyDrive/Deep Learning/data/Test...</td>\n",
              "    </tr>\n",
              "    <tr>\n",
              "      <th>3566</th>\n",
              "      <td>34</td>\n",
              "      <td>34</td>\n",
              "      <td>5</td>\n",
              "      <td>5</td>\n",
              "      <td>29</td>\n",
              "      <td>29</td>\n",
              "      <td>1</td>\n",
              "      <td>/content/drive/MyDrive/Deep Learning/data/Test...</td>\n",
              "    </tr>\n",
              "    <tr>\n",
              "      <th>3567</th>\n",
              "      <td>63</td>\n",
              "      <td>57</td>\n",
              "      <td>6</td>\n",
              "      <td>5</td>\n",
              "      <td>58</td>\n",
              "      <td>52</td>\n",
              "      <td>13</td>\n",
              "      <td>/content/drive/MyDrive/Deep Learning/data/Test...</td>\n",
              "    </tr>\n",
              "    <tr>\n",
              "      <th>3568</th>\n",
              "      <td>35</td>\n",
              "      <td>35</td>\n",
              "      <td>6</td>\n",
              "      <td>5</td>\n",
              "      <td>29</td>\n",
              "      <td>30</td>\n",
              "      <td>12</td>\n",
              "      <td>/content/drive/MyDrive/Deep Learning/data/Test...</td>\n",
              "    </tr>\n",
              "    <tr>\n",
              "      <th>3569</th>\n",
              "      <td>42</td>\n",
              "      <td>41</td>\n",
              "      <td>5</td>\n",
              "      <td>6</td>\n",
              "      <td>37</td>\n",
              "      <td>36</td>\n",
              "      <td>12</td>\n",
              "      <td>/content/drive/MyDrive/Deep Learning/data/Test...</td>\n",
              "    </tr>\n",
              "  </tbody>\n",
              "</table>\n",
              "<p>3570 rows × 8 columns</p>\n",
              "</div>\n",
              "      <button class=\"colab-df-convert\" onclick=\"convertToInteractive('df-ca68bc4f-c96c-4220-a524-570ab688a38f')\"\n",
              "              title=\"Convert this dataframe to an interactive table.\"\n",
              "              style=\"display:none;\">\n",
              "        \n",
              "  <svg xmlns=\"http://www.w3.org/2000/svg\" height=\"24px\"viewBox=\"0 0 24 24\"\n",
              "       width=\"24px\">\n",
              "    <path d=\"M0 0h24v24H0V0z\" fill=\"none\"/>\n",
              "    <path d=\"M18.56 5.44l.94 2.06.94-2.06 2.06-.94-2.06-.94-.94-2.06-.94 2.06-2.06.94zm-11 1L8.5 8.5l.94-2.06 2.06-.94-2.06-.94L8.5 2.5l-.94 2.06-2.06.94zm10 10l.94 2.06.94-2.06 2.06-.94-2.06-.94-.94-2.06-.94 2.06-2.06.94z\"/><path d=\"M17.41 7.96l-1.37-1.37c-.4-.4-.92-.59-1.43-.59-.52 0-1.04.2-1.43.59L10.3 9.45l-7.72 7.72c-.78.78-.78 2.05 0 2.83L4 21.41c.39.39.9.59 1.41.59.51 0 1.02-.2 1.41-.59l7.78-7.78 2.81-2.81c.8-.78.8-2.07 0-2.86zM5.41 20L4 18.59l7.72-7.72 1.47 1.35L5.41 20z\"/>\n",
              "  </svg>\n",
              "      </button>\n",
              "      \n",
              "  <style>\n",
              "    .colab-df-container {\n",
              "      display:flex;\n",
              "      flex-wrap:wrap;\n",
              "      gap: 12px;\n",
              "    }\n",
              "\n",
              "    .colab-df-convert {\n",
              "      background-color: #E8F0FE;\n",
              "      border: none;\n",
              "      border-radius: 50%;\n",
              "      cursor: pointer;\n",
              "      display: none;\n",
              "      fill: #1967D2;\n",
              "      height: 32px;\n",
              "      padding: 0 0 0 0;\n",
              "      width: 32px;\n",
              "    }\n",
              "\n",
              "    .colab-df-convert:hover {\n",
              "      background-color: #E2EBFA;\n",
              "      box-shadow: 0px 1px 2px rgba(60, 64, 67, 0.3), 0px 1px 3px 1px rgba(60, 64, 67, 0.15);\n",
              "      fill: #174EA6;\n",
              "    }\n",
              "\n",
              "    [theme=dark] .colab-df-convert {\n",
              "      background-color: #3B4455;\n",
              "      fill: #D2E3FC;\n",
              "    }\n",
              "\n",
              "    [theme=dark] .colab-df-convert:hover {\n",
              "      background-color: #434B5C;\n",
              "      box-shadow: 0px 1px 3px 1px rgba(0, 0, 0, 0.15);\n",
              "      filter: drop-shadow(0px 1px 2px rgba(0, 0, 0, 0.3));\n",
              "      fill: #FFFFFF;\n",
              "    }\n",
              "  </style>\n",
              "\n",
              "      <script>\n",
              "        const buttonEl =\n",
              "          document.querySelector('#df-ca68bc4f-c96c-4220-a524-570ab688a38f button.colab-df-convert');\n",
              "        buttonEl.style.display =\n",
              "          google.colab.kernel.accessAllowed ? 'block' : 'none';\n",
              "\n",
              "        async function convertToInteractive(key) {\n",
              "          const element = document.querySelector('#df-ca68bc4f-c96c-4220-a524-570ab688a38f');\n",
              "          const dataTable =\n",
              "            await google.colab.kernel.invokeFunction('convertToInteractive',\n",
              "                                                     [key], {});\n",
              "          if (!dataTable) return;\n",
              "\n",
              "          const docLinkHtml = 'Like what you see? Visit the ' +\n",
              "            '<a target=\"_blank\" href=https://colab.research.google.com/notebooks/data_table.ipynb>data table notebook</a>'\n",
              "            + ' to learn more about interactive tables.';\n",
              "          element.innerHTML = '';\n",
              "          dataTable['output_type'] = 'display_data';\n",
              "          await google.colab.output.renderOutput(dataTable, element);\n",
              "          const docLink = document.createElement('div');\n",
              "          docLink.innerHTML = docLinkHtml;\n",
              "          element.appendChild(docLink);\n",
              "        }\n",
              "      </script>\n",
              "    </div>\n",
              "  </div>\n",
              "  "
            ]
          },
          "metadata": {},
          "execution_count": 18
        }
      ]
    },
    {
      "cell_type": "markdown",
      "source": [
        "We have around 25% test and 75% train data here. Our training dataframe has around 9000 data, so it's still long to compute (around 20 min for 2000 data). Let's say we keep 20% of our data first."
      ],
      "metadata": {
        "id": "Xpl_CMwDbsna"
      }
    },
    {
      "cell_type": "code",
      "source": [
        "df_train_small_2[\"ClassId\"].value_counts()/5"
      ],
      "metadata": {
        "id": "IWEVBTdRc9fP"
      },
      "execution_count": null,
      "outputs": []
    },
    {
      "cell_type": "code",
      "source": [
        "class1_count=0\n",
        "class2_count=0\n",
        "class12_count=0\n",
        "class13_count=0\n",
        "class38_count=0\n",
        "df_train_smaller=pd.DataFrame()\n",
        "for i in range(len(df_train_small_2)):\n",
        "  if df_train_small_2.iloc[i,6]==\"1\" and class1_count < 450:\n",
        "    df_train_smaller=df_train_smaller.append(df_train_small_2.iloc[i,:])\n",
        "    class1_count=class1_count+1\n",
        "  if df_train_small_2.iloc[i,6]==\"2\" and class2_count < 444:\n",
        "    df_train_smaller=df_train_smaller.append(df_train_small_2.iloc[i,:])\n",
        "    class2_count=class2_count+1\n",
        "  if df_train_small_2.iloc[i,6]==\"12\" and class12_count < 432:\n",
        "    df_train_smaller=df_train_smaller.append(df_train_small_2.iloc[i,:])\n",
        "    class12_count=class12_count+1\n",
        "  if df_train_small_2.iloc[i,6]==\"13\" and class13_count < 420:\n",
        "    df_train_smaller=df_train_smaller.append(df_train_small_2.iloc[i,:])\n",
        "    class13_count=class13_count+1\n",
        "  if df_train_small_2.iloc[i,6]==\"38\" and class38_count < 414:\n",
        "    df_train_smaller=df_train_smaller.append(df_train_small_2.iloc[i,:])\n",
        "    class38_count=class38_count+1"
      ],
      "metadata": {
        "id": "9gblOEX6b2aW"
      },
      "execution_count": 19,
      "outputs": []
    },
    {
      "cell_type": "code",
      "source": [
        "df_train_smaller.index=range(len(df_train_smaller))\n",
        "df_train_smaller"
      ],
      "metadata": {
        "colab": {
          "base_uri": "https://localhost:8080/",
          "height": 419
        },
        "id": "T9nyvkpEeGDW",
        "outputId": "cc8a1684-1924-4c3b-85bf-fa9c0b027d6d"
      },
      "execution_count": 20,
      "outputs": [
        {
          "output_type": "execute_result",
          "data": {
            "text/plain": [
              "      Width  Height  Roi.X1  Roi.Y1  Roi.X2  Roi.Y2 ClassId  \\\n",
              "0      56.0    57.0     6.0     5.0    51.0    52.0       1   \n",
              "1      55.0    57.0     5.0     6.0    50.0    52.0       1   \n",
              "2      56.0    56.0     5.0     6.0    51.0    51.0       1   \n",
              "3      58.0    58.0     6.0     6.0    53.0    52.0       1   \n",
              "4      59.0    59.0     6.0     6.0    54.0    53.0       1   \n",
              "...     ...     ...     ...     ...     ...     ...     ...   \n",
              "2155   38.0    40.0     5.0     6.0    33.0    34.0      38   \n",
              "2156   41.0    41.0     5.0     5.0    36.0    36.0      38   \n",
              "2157   43.0    44.0     5.0     6.0    38.0    39.0      38   \n",
              "2158   46.0    47.0     6.0     6.0    41.0    42.0      38   \n",
              "2159   46.0    47.0     5.0     6.0    41.0    42.0      38   \n",
              "\n",
              "                                                   Path  \n",
              "0     /content/drive/MyDrive/Deep Learning/data/Trai...  \n",
              "1     /content/drive/MyDrive/Deep Learning/data/Trai...  \n",
              "2     /content/drive/MyDrive/Deep Learning/data/Trai...  \n",
              "3     /content/drive/MyDrive/Deep Learning/data/Trai...  \n",
              "4     /content/drive/MyDrive/Deep Learning/data/Trai...  \n",
              "...                                                 ...  \n",
              "2155  /content/drive/MyDrive/Deep Learning/data/Trai...  \n",
              "2156  /content/drive/MyDrive/Deep Learning/data/Trai...  \n",
              "2157  /content/drive/MyDrive/Deep Learning/data/Trai...  \n",
              "2158  /content/drive/MyDrive/Deep Learning/data/Trai...  \n",
              "2159  /content/drive/MyDrive/Deep Learning/data/Trai...  \n",
              "\n",
              "[2160 rows x 8 columns]"
            ],
            "text/html": [
              "\n",
              "  <div id=\"df-145900dd-6537-414a-9936-fb8ced61fbbe\">\n",
              "    <div class=\"colab-df-container\">\n",
              "      <div>\n",
              "<style scoped>\n",
              "    .dataframe tbody tr th:only-of-type {\n",
              "        vertical-align: middle;\n",
              "    }\n",
              "\n",
              "    .dataframe tbody tr th {\n",
              "        vertical-align: top;\n",
              "    }\n",
              "\n",
              "    .dataframe thead th {\n",
              "        text-align: right;\n",
              "    }\n",
              "</style>\n",
              "<table border=\"1\" class=\"dataframe\">\n",
              "  <thead>\n",
              "    <tr style=\"text-align: right;\">\n",
              "      <th></th>\n",
              "      <th>Width</th>\n",
              "      <th>Height</th>\n",
              "      <th>Roi.X1</th>\n",
              "      <th>Roi.Y1</th>\n",
              "      <th>Roi.X2</th>\n",
              "      <th>Roi.Y2</th>\n",
              "      <th>ClassId</th>\n",
              "      <th>Path</th>\n",
              "    </tr>\n",
              "  </thead>\n",
              "  <tbody>\n",
              "    <tr>\n",
              "      <th>0</th>\n",
              "      <td>56.0</td>\n",
              "      <td>57.0</td>\n",
              "      <td>6.0</td>\n",
              "      <td>5.0</td>\n",
              "      <td>51.0</td>\n",
              "      <td>52.0</td>\n",
              "      <td>1</td>\n",
              "      <td>/content/drive/MyDrive/Deep Learning/data/Trai...</td>\n",
              "    </tr>\n",
              "    <tr>\n",
              "      <th>1</th>\n",
              "      <td>55.0</td>\n",
              "      <td>57.0</td>\n",
              "      <td>5.0</td>\n",
              "      <td>6.0</td>\n",
              "      <td>50.0</td>\n",
              "      <td>52.0</td>\n",
              "      <td>1</td>\n",
              "      <td>/content/drive/MyDrive/Deep Learning/data/Trai...</td>\n",
              "    </tr>\n",
              "    <tr>\n",
              "      <th>2</th>\n",
              "      <td>56.0</td>\n",
              "      <td>56.0</td>\n",
              "      <td>5.0</td>\n",
              "      <td>6.0</td>\n",
              "      <td>51.0</td>\n",
              "      <td>51.0</td>\n",
              "      <td>1</td>\n",
              "      <td>/content/drive/MyDrive/Deep Learning/data/Trai...</td>\n",
              "    </tr>\n",
              "    <tr>\n",
              "      <th>3</th>\n",
              "      <td>58.0</td>\n",
              "      <td>58.0</td>\n",
              "      <td>6.0</td>\n",
              "      <td>6.0</td>\n",
              "      <td>53.0</td>\n",
              "      <td>52.0</td>\n",
              "      <td>1</td>\n",
              "      <td>/content/drive/MyDrive/Deep Learning/data/Trai...</td>\n",
              "    </tr>\n",
              "    <tr>\n",
              "      <th>4</th>\n",
              "      <td>59.0</td>\n",
              "      <td>59.0</td>\n",
              "      <td>6.0</td>\n",
              "      <td>6.0</td>\n",
              "      <td>54.0</td>\n",
              "      <td>53.0</td>\n",
              "      <td>1</td>\n",
              "      <td>/content/drive/MyDrive/Deep Learning/data/Trai...</td>\n",
              "    </tr>\n",
              "    <tr>\n",
              "      <th>...</th>\n",
              "      <td>...</td>\n",
              "      <td>...</td>\n",
              "      <td>...</td>\n",
              "      <td>...</td>\n",
              "      <td>...</td>\n",
              "      <td>...</td>\n",
              "      <td>...</td>\n",
              "      <td>...</td>\n",
              "    </tr>\n",
              "    <tr>\n",
              "      <th>2155</th>\n",
              "      <td>38.0</td>\n",
              "      <td>40.0</td>\n",
              "      <td>5.0</td>\n",
              "      <td>6.0</td>\n",
              "      <td>33.0</td>\n",
              "      <td>34.0</td>\n",
              "      <td>38</td>\n",
              "      <td>/content/drive/MyDrive/Deep Learning/data/Trai...</td>\n",
              "    </tr>\n",
              "    <tr>\n",
              "      <th>2156</th>\n",
              "      <td>41.0</td>\n",
              "      <td>41.0</td>\n",
              "      <td>5.0</td>\n",
              "      <td>5.0</td>\n",
              "      <td>36.0</td>\n",
              "      <td>36.0</td>\n",
              "      <td>38</td>\n",
              "      <td>/content/drive/MyDrive/Deep Learning/data/Trai...</td>\n",
              "    </tr>\n",
              "    <tr>\n",
              "      <th>2157</th>\n",
              "      <td>43.0</td>\n",
              "      <td>44.0</td>\n",
              "      <td>5.0</td>\n",
              "      <td>6.0</td>\n",
              "      <td>38.0</td>\n",
              "      <td>39.0</td>\n",
              "      <td>38</td>\n",
              "      <td>/content/drive/MyDrive/Deep Learning/data/Trai...</td>\n",
              "    </tr>\n",
              "    <tr>\n",
              "      <th>2158</th>\n",
              "      <td>46.0</td>\n",
              "      <td>47.0</td>\n",
              "      <td>6.0</td>\n",
              "      <td>6.0</td>\n",
              "      <td>41.0</td>\n",
              "      <td>42.0</td>\n",
              "      <td>38</td>\n",
              "      <td>/content/drive/MyDrive/Deep Learning/data/Trai...</td>\n",
              "    </tr>\n",
              "    <tr>\n",
              "      <th>2159</th>\n",
              "      <td>46.0</td>\n",
              "      <td>47.0</td>\n",
              "      <td>5.0</td>\n",
              "      <td>6.0</td>\n",
              "      <td>41.0</td>\n",
              "      <td>42.0</td>\n",
              "      <td>38</td>\n",
              "      <td>/content/drive/MyDrive/Deep Learning/data/Trai...</td>\n",
              "    </tr>\n",
              "  </tbody>\n",
              "</table>\n",
              "<p>2160 rows × 8 columns</p>\n",
              "</div>\n",
              "      <button class=\"colab-df-convert\" onclick=\"convertToInteractive('df-145900dd-6537-414a-9936-fb8ced61fbbe')\"\n",
              "              title=\"Convert this dataframe to an interactive table.\"\n",
              "              style=\"display:none;\">\n",
              "        \n",
              "  <svg xmlns=\"http://www.w3.org/2000/svg\" height=\"24px\"viewBox=\"0 0 24 24\"\n",
              "       width=\"24px\">\n",
              "    <path d=\"M0 0h24v24H0V0z\" fill=\"none\"/>\n",
              "    <path d=\"M18.56 5.44l.94 2.06.94-2.06 2.06-.94-2.06-.94-.94-2.06-.94 2.06-2.06.94zm-11 1L8.5 8.5l.94-2.06 2.06-.94-2.06-.94L8.5 2.5l-.94 2.06-2.06.94zm10 10l.94 2.06.94-2.06 2.06-.94-2.06-.94-.94-2.06-.94 2.06-2.06.94z\"/><path d=\"M17.41 7.96l-1.37-1.37c-.4-.4-.92-.59-1.43-.59-.52 0-1.04.2-1.43.59L10.3 9.45l-7.72 7.72c-.78.78-.78 2.05 0 2.83L4 21.41c.39.39.9.59 1.41.59.51 0 1.02-.2 1.41-.59l7.78-7.78 2.81-2.81c.8-.78.8-2.07 0-2.86zM5.41 20L4 18.59l7.72-7.72 1.47 1.35L5.41 20z\"/>\n",
              "  </svg>\n",
              "      </button>\n",
              "      \n",
              "  <style>\n",
              "    .colab-df-container {\n",
              "      display:flex;\n",
              "      flex-wrap:wrap;\n",
              "      gap: 12px;\n",
              "    }\n",
              "\n",
              "    .colab-df-convert {\n",
              "      background-color: #E8F0FE;\n",
              "      border: none;\n",
              "      border-radius: 50%;\n",
              "      cursor: pointer;\n",
              "      display: none;\n",
              "      fill: #1967D2;\n",
              "      height: 32px;\n",
              "      padding: 0 0 0 0;\n",
              "      width: 32px;\n",
              "    }\n",
              "\n",
              "    .colab-df-convert:hover {\n",
              "      background-color: #E2EBFA;\n",
              "      box-shadow: 0px 1px 2px rgba(60, 64, 67, 0.3), 0px 1px 3px 1px rgba(60, 64, 67, 0.15);\n",
              "      fill: #174EA6;\n",
              "    }\n",
              "\n",
              "    [theme=dark] .colab-df-convert {\n",
              "      background-color: #3B4455;\n",
              "      fill: #D2E3FC;\n",
              "    }\n",
              "\n",
              "    [theme=dark] .colab-df-convert:hover {\n",
              "      background-color: #434B5C;\n",
              "      box-shadow: 0px 1px 3px 1px rgba(0, 0, 0, 0.15);\n",
              "      filter: drop-shadow(0px 1px 2px rgba(0, 0, 0, 0.3));\n",
              "      fill: #FFFFFF;\n",
              "    }\n",
              "  </style>\n",
              "\n",
              "      <script>\n",
              "        const buttonEl =\n",
              "          document.querySelector('#df-145900dd-6537-414a-9936-fb8ced61fbbe button.colab-df-convert');\n",
              "        buttonEl.style.display =\n",
              "          google.colab.kernel.accessAllowed ? 'block' : 'none';\n",
              "\n",
              "        async function convertToInteractive(key) {\n",
              "          const element = document.querySelector('#df-145900dd-6537-414a-9936-fb8ced61fbbe');\n",
              "          const dataTable =\n",
              "            await google.colab.kernel.invokeFunction('convertToInteractive',\n",
              "                                                     [key], {});\n",
              "          if (!dataTable) return;\n",
              "\n",
              "          const docLinkHtml = 'Like what you see? Visit the ' +\n",
              "            '<a target=\"_blank\" href=https://colab.research.google.com/notebooks/data_table.ipynb>data table notebook</a>'\n",
              "            + ' to learn more about interactive tables.';\n",
              "          element.innerHTML = '';\n",
              "          dataTable['output_type'] = 'display_data';\n",
              "          await google.colab.output.renderOutput(dataTable, element);\n",
              "          const docLink = document.createElement('div');\n",
              "          docLink.innerHTML = docLinkHtml;\n",
              "          element.appendChild(docLink);\n",
              "        }\n",
              "      </script>\n",
              "    </div>\n",
              "  </div>\n",
              "  "
            ]
          },
          "metadata": {},
          "execution_count": 20
        }
      ]
    },
    {
      "cell_type": "code",
      "source": [
        "def img_to_array(df):\n",
        "  im = cv2.imread(df.iloc[0,7])\n",
        "  df_im=image_to_feature_vector(im)\n",
        "  for i in range(1,len(df)):\n",
        "    im = cv2.imread(df.iloc[i,7]) ## read the image path\n",
        "    im=image_to_feature_vector(im)\n",
        "    df_im=np.vstack([df_im,im])\n",
        "  return(df_im)"
      ],
      "metadata": {
        "id": "OKSaTuFzhLj5"
      },
      "execution_count": 21,
      "outputs": []
    },
    {
      "cell_type": "code",
      "source": [
        "%%time\n",
        "df_im2=img_to_array(df_train_smaller) "
      ],
      "metadata": {
        "colab": {
          "base_uri": "https://localhost:8080/"
        },
        "id": "p4nHxdQygRWr",
        "outputId": "bca0e2f7-4bc9-4ee8-916a-e1b70c627e5a"
      },
      "execution_count": 22,
      "outputs": [
        {
          "output_type": "stream",
          "name": "stdout",
          "text": [
            "CPU times: user 7.43 s, sys: 1.62 s, total: 9.05 s\n",
            "Wall time: 9min 3s\n"
          ]
        }
      ]
    },
    {
      "cell_type": "code",
      "source": [
        "df_im2.shape"
      ],
      "metadata": {
        "colab": {
          "base_uri": "https://localhost:8080/"
        },
        "id": "bijuCwL3mjnu",
        "outputId": "316aafe6-fa90-49e2-80de-38e0e8eeb414"
      },
      "execution_count": 23,
      "outputs": [
        {
          "output_type": "execute_result",
          "data": {
            "text/plain": [
              "(2160, 3072)"
            ]
          },
          "metadata": {},
          "execution_count": 23
        }
      ]
    },
    {
      "cell_type": "code",
      "source": [
        "df_test_small_2[\"ClassId\"].value_counts()/5"
      ],
      "metadata": {
        "colab": {
          "base_uri": "https://localhost:8080/"
        },
        "id": "6fAozS3woCXS",
        "outputId": "25e47ee0-35ab-41b8-e121-4ee8b385e61b"
      },
      "execution_count": 24,
      "outputs": [
        {
          "output_type": "execute_result",
          "data": {
            "text/plain": [
              "2     150.0\n",
              "1     144.0\n",
              "13    144.0\n",
              "38    138.0\n",
              "12    138.0\n",
              "Name: ClassId, dtype: float64"
            ]
          },
          "metadata": {},
          "execution_count": 24
        }
      ]
    },
    {
      "cell_type": "code",
      "source": [
        "class1_count=0\n",
        "class2_count=0\n",
        "class12_count=0\n",
        "class13_count=0\n",
        "class38_count=0\n",
        "df_test_smaller=pd.DataFrame()\n",
        "for i in range(len(df_test_small_2)):\n",
        "  if df_test_small_2.iloc[i,6]==\"1\" and class1_count < 150:\n",
        "    df_test_smaller=df_test_smaller.append(df_test_small_2.iloc[i,:])\n",
        "    class1_count=class1_count+1\n",
        "  if df_test_small_2.iloc[i,6]==\"2\" and class2_count < 144:\n",
        "    df_test_smaller=df_test_smaller.append(df_test_small_2.iloc[i,:])\n",
        "    class2_count=class2_count+1\n",
        "  if df_test_small_2.iloc[i,6]==\"12\" and class12_count < 138:\n",
        "    df_test_smaller=df_test_smaller.append(df_test_small_2.iloc[i,:])\n",
        "    class12_count=class12_count+1\n",
        "  if df_test_small_2.iloc[i,6]==\"13\" and class13_count < 144:\n",
        "    df_test_smaller=df_test_smaller.append(df_test_small_2.iloc[i,:])\n",
        "    class13_count=class13_count+1\n",
        "  if df_test_small_2.iloc[i,6]==\"38\" and class38_count < 138:\n",
        "    df_test_smaller=df_test_smaller.append(df_test_small_2.iloc[i,:])\n",
        "    class38_count=class38_count+1"
      ],
      "metadata": {
        "id": "pf8ZCkgznyWa"
      },
      "execution_count": 25,
      "outputs": []
    },
    {
      "cell_type": "code",
      "source": [
        "df_test_smaller.index=range(len(df_test_smaller))"
      ],
      "metadata": {
        "id": "QeX9Ke-UocC_"
      },
      "execution_count": 26,
      "outputs": []
    },
    {
      "cell_type": "code",
      "source": [
        "%%time\n",
        "df_im2_test=img_to_array(df_test_smaller) "
      ],
      "metadata": {
        "colab": {
          "base_uri": "https://localhost:8080/"
        },
        "id": "UjRxjRJInMd4",
        "outputId": "8a4c9161-6ec0-403c-90db-8cff72a474a8"
      },
      "execution_count": 27,
      "outputs": [
        {
          "output_type": "stream",
          "name": "stdout",
          "text": [
            "CPU times: user 1.77 s, sys: 443 ms, total: 2.22 s\n",
            "Wall time: 2min 42s\n"
          ]
        }
      ]
    },
    {
      "cell_type": "code",
      "source": [
        "y_train2=df_train_smaller[\"ClassId\"]\n",
        "y_test2=df_test_smaller[\"ClassId\"]"
      ],
      "metadata": {
        "id": "SRNHY6tOsCM4"
      },
      "execution_count": 28,
      "outputs": []
    },
    {
      "cell_type": "code",
      "source": [
        "x_train2=pd.DataFrame(df_im2)\n",
        "x_test2=pd.DataFrame(df_im2_test)\n",
        "y_pred2=weighted_knn_classification(x_test2,x_train2,y_train2,5)"
      ],
      "metadata": {
        "id": "vZ0nhah5sNHa"
      },
      "execution_count": 29,
      "outputs": []
    },
    {
      "cell_type": "code",
      "source": [
        "y_test2=pd.DataFrame(y_test2,columns=[\"ClassId\"])\n",
        "y_test2=y_test2.astype(int)\n",
        "y_test2"
      ],
      "metadata": {
        "colab": {
          "base_uri": "https://localhost:8080/",
          "height": 419
        },
        "id": "Z5WeHS3zswoM",
        "outputId": "778ee2c7-fe7b-4f9d-f686-92a30e219f42"
      },
      "execution_count": 30,
      "outputs": [
        {
          "output_type": "execute_result",
          "data": {
            "text/plain": [
              "     ClassId\n",
              "0          1\n",
              "1         38\n",
              "2         38\n",
              "3         12\n",
              "4         12\n",
              "..       ...\n",
              "709        1\n",
              "710        1\n",
              "711        1\n",
              "712        1\n",
              "713        1\n",
              "\n",
              "[714 rows x 1 columns]"
            ],
            "text/html": [
              "\n",
              "  <div id=\"df-458d3592-5001-4a51-a0c3-0bc5cc39ac3f\">\n",
              "    <div class=\"colab-df-container\">\n",
              "      <div>\n",
              "<style scoped>\n",
              "    .dataframe tbody tr th:only-of-type {\n",
              "        vertical-align: middle;\n",
              "    }\n",
              "\n",
              "    .dataframe tbody tr th {\n",
              "        vertical-align: top;\n",
              "    }\n",
              "\n",
              "    .dataframe thead th {\n",
              "        text-align: right;\n",
              "    }\n",
              "</style>\n",
              "<table border=\"1\" class=\"dataframe\">\n",
              "  <thead>\n",
              "    <tr style=\"text-align: right;\">\n",
              "      <th></th>\n",
              "      <th>ClassId</th>\n",
              "    </tr>\n",
              "  </thead>\n",
              "  <tbody>\n",
              "    <tr>\n",
              "      <th>0</th>\n",
              "      <td>1</td>\n",
              "    </tr>\n",
              "    <tr>\n",
              "      <th>1</th>\n",
              "      <td>38</td>\n",
              "    </tr>\n",
              "    <tr>\n",
              "      <th>2</th>\n",
              "      <td>38</td>\n",
              "    </tr>\n",
              "    <tr>\n",
              "      <th>3</th>\n",
              "      <td>12</td>\n",
              "    </tr>\n",
              "    <tr>\n",
              "      <th>4</th>\n",
              "      <td>12</td>\n",
              "    </tr>\n",
              "    <tr>\n",
              "      <th>...</th>\n",
              "      <td>...</td>\n",
              "    </tr>\n",
              "    <tr>\n",
              "      <th>709</th>\n",
              "      <td>1</td>\n",
              "    </tr>\n",
              "    <tr>\n",
              "      <th>710</th>\n",
              "      <td>1</td>\n",
              "    </tr>\n",
              "    <tr>\n",
              "      <th>711</th>\n",
              "      <td>1</td>\n",
              "    </tr>\n",
              "    <tr>\n",
              "      <th>712</th>\n",
              "      <td>1</td>\n",
              "    </tr>\n",
              "    <tr>\n",
              "      <th>713</th>\n",
              "      <td>1</td>\n",
              "    </tr>\n",
              "  </tbody>\n",
              "</table>\n",
              "<p>714 rows × 1 columns</p>\n",
              "</div>\n",
              "      <button class=\"colab-df-convert\" onclick=\"convertToInteractive('df-458d3592-5001-4a51-a0c3-0bc5cc39ac3f')\"\n",
              "              title=\"Convert this dataframe to an interactive table.\"\n",
              "              style=\"display:none;\">\n",
              "        \n",
              "  <svg xmlns=\"http://www.w3.org/2000/svg\" height=\"24px\"viewBox=\"0 0 24 24\"\n",
              "       width=\"24px\">\n",
              "    <path d=\"M0 0h24v24H0V0z\" fill=\"none\"/>\n",
              "    <path d=\"M18.56 5.44l.94 2.06.94-2.06 2.06-.94-2.06-.94-.94-2.06-.94 2.06-2.06.94zm-11 1L8.5 8.5l.94-2.06 2.06-.94-2.06-.94L8.5 2.5l-.94 2.06-2.06.94zm10 10l.94 2.06.94-2.06 2.06-.94-2.06-.94-.94-2.06-.94 2.06-2.06.94z\"/><path d=\"M17.41 7.96l-1.37-1.37c-.4-.4-.92-.59-1.43-.59-.52 0-1.04.2-1.43.59L10.3 9.45l-7.72 7.72c-.78.78-.78 2.05 0 2.83L4 21.41c.39.39.9.59 1.41.59.51 0 1.02-.2 1.41-.59l7.78-7.78 2.81-2.81c.8-.78.8-2.07 0-2.86zM5.41 20L4 18.59l7.72-7.72 1.47 1.35L5.41 20z\"/>\n",
              "  </svg>\n",
              "      </button>\n",
              "      \n",
              "  <style>\n",
              "    .colab-df-container {\n",
              "      display:flex;\n",
              "      flex-wrap:wrap;\n",
              "      gap: 12px;\n",
              "    }\n",
              "\n",
              "    .colab-df-convert {\n",
              "      background-color: #E8F0FE;\n",
              "      border: none;\n",
              "      border-radius: 50%;\n",
              "      cursor: pointer;\n",
              "      display: none;\n",
              "      fill: #1967D2;\n",
              "      height: 32px;\n",
              "      padding: 0 0 0 0;\n",
              "      width: 32px;\n",
              "    }\n",
              "\n",
              "    .colab-df-convert:hover {\n",
              "      background-color: #E2EBFA;\n",
              "      box-shadow: 0px 1px 2px rgba(60, 64, 67, 0.3), 0px 1px 3px 1px rgba(60, 64, 67, 0.15);\n",
              "      fill: #174EA6;\n",
              "    }\n",
              "\n",
              "    [theme=dark] .colab-df-convert {\n",
              "      background-color: #3B4455;\n",
              "      fill: #D2E3FC;\n",
              "    }\n",
              "\n",
              "    [theme=dark] .colab-df-convert:hover {\n",
              "      background-color: #434B5C;\n",
              "      box-shadow: 0px 1px 3px 1px rgba(0, 0, 0, 0.15);\n",
              "      filter: drop-shadow(0px 1px 2px rgba(0, 0, 0, 0.3));\n",
              "      fill: #FFFFFF;\n",
              "    }\n",
              "  </style>\n",
              "\n",
              "      <script>\n",
              "        const buttonEl =\n",
              "          document.querySelector('#df-458d3592-5001-4a51-a0c3-0bc5cc39ac3f button.colab-df-convert');\n",
              "        buttonEl.style.display =\n",
              "          google.colab.kernel.accessAllowed ? 'block' : 'none';\n",
              "\n",
              "        async function convertToInteractive(key) {\n",
              "          const element = document.querySelector('#df-458d3592-5001-4a51-a0c3-0bc5cc39ac3f');\n",
              "          const dataTable =\n",
              "            await google.colab.kernel.invokeFunction('convertToInteractive',\n",
              "                                                     [key], {});\n",
              "          if (!dataTable) return;\n",
              "\n",
              "          const docLinkHtml = 'Like what you see? Visit the ' +\n",
              "            '<a target=\"_blank\" href=https://colab.research.google.com/notebooks/data_table.ipynb>data table notebook</a>'\n",
              "            + ' to learn more about interactive tables.';\n",
              "          element.innerHTML = '';\n",
              "          dataTable['output_type'] = 'display_data';\n",
              "          await google.colab.output.renderOutput(dataTable, element);\n",
              "          const docLink = document.createElement('div');\n",
              "          docLink.innerHTML = docLinkHtml;\n",
              "          element.appendChild(docLink);\n",
              "        }\n",
              "      </script>\n",
              "    </div>\n",
              "  </div>\n",
              "  "
            ]
          },
          "metadata": {},
          "execution_count": 30
        }
      ]
    },
    {
      "cell_type": "code",
      "source": [
        "abs(y_pred2-y_test2).value_counts()/len(y_pred2)"
      ],
      "metadata": {
        "colab": {
          "base_uri": "https://localhost:8080/"
        },
        "id": "-S_DjLvmtEzG",
        "outputId": "0b4924dc-52f4-46fc-b91a-8c4709eacfff"
      },
      "execution_count": 31,
      "outputs": [
        {
          "output_type": "execute_result",
          "data": {
            "text/plain": [
              "ClassId\n",
              "0          0.406162\n",
              "1          0.154062\n",
              "11         0.089636\n",
              "26         0.088235\n",
              "36         0.061625\n",
              "37         0.061625\n",
              "12         0.057423\n",
              "25         0.056022\n",
              "10         0.025210\n",
              "dtype: float64"
            ]
          },
          "metadata": {},
          "execution_count": 31
        }
      ]
    },
    {
      "cell_type": "code",
      "source": [
        "y_pred2.value_counts()"
      ],
      "metadata": {
        "colab": {
          "base_uri": "https://localhost:8080/"
        },
        "id": "DVgmbemED_Mf",
        "outputId": "244e42d0-8e88-450a-deb6-9d77c4c89610"
      },
      "execution_count": 35,
      "outputs": [
        {
          "output_type": "execute_result",
          "data": {
            "text/plain": [
              "ClassId\n",
              "1          220\n",
              "38         207\n",
              "13         120\n",
              "12          90\n",
              "2           77\n",
              "dtype: int64"
            ]
          },
          "metadata": {},
          "execution_count": 35
        }
      ]
    }
  ]
}