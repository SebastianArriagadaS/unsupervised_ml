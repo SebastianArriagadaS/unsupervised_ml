{
  "nbformat": 4,
  "nbformat_minor": 0,
  "metadata": {
    "colab": {
      "provenance": [],
      "toc_visible": true
    },
    "kernelspec": {
      "name": "python3",
      "display_name": "Python 3"
    },
    "language_info": {
      "name": "python"
    }
  },
  "cells": [
    {
      "cell_type": "markdown",
      "source": [
        "# Imports "
      ],
      "metadata": {
        "id": "4FdVEcScO6-e"
      }
    },
    {
      "cell_type": "code",
      "source": [
        "import pandas as pd\n",
        "import numpy as np\n",
        "import matplotlib.pyplot as plt\n",
        "import plotly.express as px\n",
        "from sklearn.model_selection import train_test_split\n",
        "from sklearn.preprocessing import OneHotEncoder\n",
        "import statistics as st\n",
        "import seaborn as sns\n",
        "from sklearn.neighbors import KNeighborsRegressor, KNeighborsClassifier\n",
        "import cv2\n",
        "import random\n",
        "from tqdm import tqdm, trange\n",
        "from sklearn.neighbors import KNeighborsClassifier\n",
        "from sklearn.preprocessing import StandardScaler\n",
        "from sklearn.metrics import accuracy_score, classification_report, confusion_matrix"
      ],
      "metadata": {
        "id": "Jh9TPcYMhqEw"
      },
      "execution_count": 1,
      "outputs": []
    },
    {
      "cell_type": "code",
      "source": [
        "import tensorflow as tf\n",
        "from tensorflow.keras import Sequential \n",
        "from tensorflow.keras.layers import Conv2D,MaxPool2D,Dropout,Flatten,Dense,BatchNormalization"
      ],
      "metadata": {
        "id": "wmg5uKuLH4qc"
      },
      "execution_count": 2,
      "outputs": []
    },
    {
      "cell_type": "code",
      "source": [
        "from tensorflow.keras.preprocessing.image import ImageDataGenerator"
      ],
      "metadata": {
        "id": "2994w-TNO1JD"
      },
      "execution_count": 3,
      "outputs": []
    },
    {
      "cell_type": "code",
      "execution_count": 4,
      "metadata": {
        "colab": {
          "base_uri": "https://localhost:8080/"
        },
        "id": "-Qjub11eFF9A",
        "outputId": "982024ce-9938-4103-9b77-fe8418c89472"
      },
      "outputs": [
        {
          "output_type": "stream",
          "name": "stdout",
          "text": [
            "Mounted at /content/drive\n"
          ]
        }
      ],
      "source": [
        "from google.colab import drive\n",
        "drive.mount('/content/drive')"
      ]
    },
    {
      "cell_type": "markdown",
      "source": [
        "# Dataset"
      ],
      "metadata": {
        "id": "jjpXK4LD-v9K"
      }
    },
    {
      "cell_type": "markdown",
      "source": [
        "Our dataset is composed of a training set of 39209 pictures and a test set of 12630 pictures. But, a problem that we can deal with is that all picture don't have the same size. They're all 3-dimension arrays, but some are 27 by 27 by 3, some 28 by 28 by 3,... and it can be a problem when we want to train some models on it.\n",
        "\n",
        "As we previously saw, to compute our K-NN algorithm, we need pictures to be 1-dimension vectors, so we need to flatten it. But, as I'm working on Google Colab, my variables environment is reloaded each time I start a session, so it would mean that I need to flatten ALL my pictures each time. The problem is that it takes around 3h30 to flatten all my train set, and almost 1h30 for the test set. It's obviously not possible to wait 5h each time before I need to work on my code.\n",
        "\n",
        "A solution I found was to create new datasets that I would just have to load each time I start a new session. This is possible with the functions **np.save** and **np.load**, and this what I used. There is the procedure I used to create two new flattened datasets that I just load each time, so I just need to use this procedure one time instead of each time I want t work on my code : (I commented it in order not to run it when I run all my code. This is the procedure used for the train set, but it was exactly the same for the test set)\n",
        "\n"
      ],
      "metadata": {
        "id": "UrwmCClJ-zHD"
      }
    },
    {
      "cell_type": "code",
      "source": [
        "def image_to_feature_vector(image, size=(32,32)):\n",
        "\treturn cv2.resize(image, size).flatten()"
      ],
      "metadata": {
        "id": "2QoZGEzHclf6"
      },
      "execution_count": 7,
      "outputs": []
    },
    {
      "cell_type": "code",
      "source": [
        "#im = cv2.imread(df_train.iloc[0,7])\n",
        "#df_im=image_to_feature_vector(im)\n",
        "#for i in range(1,len(df_train)):\n",
        "  #im = cv2.imread(df_train.iloc[i,7]) ## read the image path\n",
        "  #im=image_to_feature_vector(im)\n",
        "  #df_im=np.append(df_im.reshape(i,3072),im.reshape(1,3072),axis=0)\n",
        "\n",
        "#np.save(\"/content/drive/MyDrive/Deep Learning/df_im\",df_im)\n",
        "\n",
        "#im = cv2.imread(df_train.iloc[0,7])\n",
        "#df_im_test=image_to_feature_vector(im)\n",
        "#for i in range(1,len(df_test)):\n",
        "  #im = cv2.imread(df_test.iloc[i,7]) ## read the image path\n",
        "  #im=image_to_feature_vector(im)\n",
        "  #df_im_test=np.append(df_im_test.reshape(i,3072),im.reshape(1,3072),axis=0)\n",
        "\n",
        "#np.save(\"/content/drive/MyDrive/Deep Learning/df_im_test\",df_im_test)"
      ],
      "metadata": {
        "id": "b6o1EFDdAs_g"
      },
      "execution_count": null,
      "outputs": []
    },
    {
      "cell_type": "markdown",
      "source": [
        "In the same time, and for my further Deep Learning model, I'll need to have same size pictures (32 by 32 by 3). So, I used a similar procedure to obtain a new set of reshaped arrays pictures in order to keep same size inputs in my Deep Learning model : "
      ],
      "metadata": {
        "id": "ui2nqPb7AyYK"
      }
    },
    {
      "cell_type": "code",
      "source": [
        "#df_raw_train=cv2.resize(cv2.imread(df_train.iloc[0,7]),(32,32))\n",
        "#for i in trange(1,len(df_train)):\n",
        "  #im=cv2.resize(cv2.imread(df_train.iloc[i,7]),(32,32))\n",
        "  #df_raw_train=np.append(df_raw_train.reshape(i,32,32,3),im.reshape(1,32,32,3),axis=0)\n",
        "\n",
        "#np.save(\"/content/drive/MyDrive/Deep Learning/raw_train_2\",df_raw_train)\n",
        "\n",
        "#df_raw_test=cv2.resize(cv2.imread(df_test.iloc[0,7]),(32,32))\n",
        "#for i in trange(1,len(df_test)):\n",
        "  #im=cv2.resize(cv2.imread(df_test.iloc[i,7]),(32,32))\n",
        "  #df_raw_test=np.append(df_raw_test.reshape(i,32,32,3),im.reshape(1,32,32,3),axis=0)\n",
        "\n",
        "#np.save(\"/content/drive/MyDrive/Deep Learning/raw_test_2\",df_raw_test)"
      ],
      "metadata": {
        "id": "sszv19gmBS5i"
      },
      "execution_count": null,
      "outputs": []
    },
    {
      "cell_type": "markdown",
      "source": [
        "Then, I'll just have to use the **np.load** function to get my new dataset and work on it.\n",
        "\n",
        "Also, for all our predictions, we will use the same procedure to estimate our accuracy : "
      ],
      "metadata": {
        "id": "5uIzPPiYBnXp"
      }
    },
    {
      "cell_type": "code",
      "source": [
        "#y_pred=model.predict(x_test)\n",
        "#y_test=pd.DataFrame(y_test,columns=['ClassId'])\n",
        "#y_test['ClassId']=y_test['ClassId'].astype(int)\n",
        "#y_pred=pd.DataFrame(y_pred,columns=['ClassId'])\n",
        "#y_pred['ClassId']=y_pred['ClassId'].astype(int)\n",
        "#abs(y_pred-y_test).value_counts()/len(y_test)"
      ],
      "metadata": {
        "id": "r_4LXjJfJBjb"
      },
      "execution_count": null,
      "outputs": []
    },
    {
      "cell_type": "markdown",
      "source": [
        "This compare the difference between our predictions and the real classes. The more we have a 0 percentage, the better our prediction model is. "
      ],
      "metadata": {
        "id": "Hnm550sVJGUl"
      }
    },
    {
      "cell_type": "markdown",
      "source": [
        "# K-NN model"
      ],
      "metadata": {
        "id": "d6Yok_G0jQnZ"
      }
    },
    {
      "cell_type": "code",
      "source": [
        "df_train=pd.read_csv(\"/content/drive/MyDrive/Deep Learning/data/Train.csv\")\n",
        "df_train['Path']=df_train.Path.apply(lambda x: \"/content/drive/MyDrive/Deep Learning/data/\"+x) ## change and normalize path\n",
        "df_train['ClassId']=df_train.ClassId.astype(str)\n",
        "\n",
        "df_test=pd.read_csv(\"/content/drive/MyDrive/Deep Learning/data/Test.csv\")\n",
        "df_test['Path']=df_test.Path.apply(lambda x: \"/content/drive/MyDrive/Deep Learning/data/\"+x) ## change and normalize path\n",
        "df_test['ClassId']=df_test.ClassId.astype(str)"
      ],
      "metadata": {
        "id": "xsvwg42LI9Xv"
      },
      "execution_count": 5,
      "outputs": []
    },
    {
      "cell_type": "code",
      "source": [
        "def weighted_knn_classification(x_test, x_train, y_train,minlen,k=10):\n",
        "  y_pred=pd.DataFrame(columns=[\"ClassId\"])\n",
        "  for i in x_test.index.to_list():\n",
        "    dist=np.linalg.norm(x_train-x_test.loc[i],axis=1)\n",
        "    indexs=dist.argsort()[:k]\n",
        "    dist=np.sort(dist)[:k]\n",
        "    weights=1./dist\n",
        "    a=np.bincount(y_train.iloc[indexs],weights=weights,minlength=minlen)\n",
        "    class_pred=a.argsort()[-1]\n",
        "    y_pred.loc[i]=class_pred\n",
        "  return y_pred"
      ],
      "metadata": {
        "id": "Sl-Kt6KBg2Wn"
      },
      "execution_count": 6,
      "outputs": []
    },
    {
      "cell_type": "code",
      "source": [
        "x_train=np.load(\"/content/drive/MyDrive/Deep Learning/df_im.npy\")"
      ],
      "metadata": {
        "id": "0KLbW-B5mVzk"
      },
      "execution_count": 76,
      "outputs": []
    },
    {
      "cell_type": "code",
      "source": [
        "x_test=np.load(\"/content/drive/MyDrive/Deep Learning/df_im_test.npy\")"
      ],
      "metadata": {
        "id": "GCARGlo9TdOM"
      },
      "execution_count": 77,
      "outputs": []
    },
    {
      "cell_type": "code",
      "source": [
        "y_train=df_train['ClassId']"
      ],
      "metadata": {
        "id": "amQuHPuaToOi"
      },
      "execution_count": 11,
      "outputs": []
    },
    {
      "cell_type": "code",
      "source": [
        "y_test=df_test['ClassId']"
      ],
      "metadata": {
        "id": "yUMoQx7qTtFa"
      },
      "execution_count": 12,
      "outputs": []
    },
    {
      "cell_type": "code",
      "source": [
        "assert x_train.shape==(39209, 3072)\n",
        "assert x_test.shape==(12630, 3072)\n",
        "assert y_train.shape==(39209,)\n",
        "assert y_test.shape==(12630,)"
      ],
      "metadata": {
        "id": "wyCTpnCSnNt6"
      },
      "execution_count": 13,
      "outputs": []
    },
    {
      "cell_type": "code",
      "source": [
        "x_train=pd.DataFrame(x_train)\n",
        "x_test=pd.DataFrame(x_test)"
      ],
      "metadata": {
        "id": "sKGF-Fuw6ek-"
      },
      "execution_count": 14,
      "outputs": []
    },
    {
      "cell_type": "code",
      "source": [
        "y_test=pd.DataFrame(y_test,columns=[\"ClassId\"])\n",
        "y_test=y_test.astype(int)"
      ],
      "metadata": {
        "id": "AxQOCTfBuywt"
      },
      "execution_count": 15,
      "outputs": []
    },
    {
      "cell_type": "code",
      "source": [
        "sc=StandardScaler()\n",
        "x_train=sc.fit_transform(x_train)\n",
        "x_test=sc.transform(x_test)"
      ],
      "metadata": {
        "id": "ejIaY45B9GOR"
      },
      "execution_count": 16,
      "outputs": []
    },
    {
      "cell_type": "code",
      "source": [
        "knn = KNeighborsClassifier(n_neighbors=10)\n",
        "knn.fit(x_train, y_train)"
      ],
      "metadata": {
        "colab": {
          "base_uri": "https://localhost:8080/"
        },
        "id": "g9H4q6Oxb-5E",
        "outputId": "f4098c5f-500b-4b49-cd04-0f7d5c96d545"
      },
      "execution_count": 17,
      "outputs": [
        {
          "output_type": "execute_result",
          "data": {
            "text/plain": [
              "KNeighborsClassifier(n_neighbors=10)"
            ]
          },
          "metadata": {},
          "execution_count": 17
        }
      ]
    },
    {
      "cell_type": "code",
      "source": [
        "y_pred=knn.predict(x_test)\n",
        "y_pred=pd.DataFrame(y_pred,columns=['ClassId'])\n",
        "y_pred=y_pred.astype(int)"
      ],
      "metadata": {
        "id": "qGpABQQncLS7"
      },
      "execution_count": 18,
      "outputs": []
    },
    {
      "cell_type": "code",
      "source": [
        "print(classification_report(y_test, y_pred))"
      ],
      "metadata": {
        "colab": {
          "base_uri": "https://localhost:8080/"
        },
        "id": "8SLQuNIhtSob",
        "outputId": "4ae8c4e6-c2aa-42ae-a4ad-00d895f92852"
      },
      "execution_count": 19,
      "outputs": [
        {
          "output_type": "stream",
          "name": "stdout",
          "text": [
            "              precision    recall  f1-score   support\n",
            "\n",
            "           0       0.20      0.27      0.23        60\n",
            "           1       0.32      0.33      0.32       720\n",
            "           2       0.29      0.26      0.27       750\n",
            "           3       0.12      0.16      0.14       450\n",
            "           4       0.33      0.34      0.34       660\n",
            "           5       0.18      0.31      0.23       630\n",
            "           6       0.49      0.33      0.39       150\n",
            "           7       0.23      0.34      0.27       450\n",
            "           8       0.26      0.26      0.26       450\n",
            "           9       0.53      0.24      0.33       480\n",
            "          10       0.45      0.59      0.51       660\n",
            "          11       0.48      0.26      0.34       420\n",
            "          12       0.67      0.53      0.59       690\n",
            "          13       0.78      0.88      0.83       720\n",
            "          14       0.89      0.27      0.42       270\n",
            "          15       0.37      0.28      0.32       210\n",
            "          16       0.46      0.65      0.54       150\n",
            "          17       0.93      0.70      0.80       360\n",
            "          18       0.24      0.34      0.28       390\n",
            "          19       0.05      0.10      0.07        60\n",
            "          20       0.11      0.20      0.14        90\n",
            "          21       0.04      0.02      0.03        90\n",
            "          22       0.33      0.42      0.37       120\n",
            "          23       0.14      0.13      0.13       150\n",
            "          24       0.00      0.00      0.00        90\n",
            "          25       0.37      0.27      0.31       480\n",
            "          26       0.48      0.46      0.47       180\n",
            "          27       0.00      0.00      0.00        60\n",
            "          28       0.14      0.14      0.14       150\n",
            "          29       0.36      0.30      0.33        90\n",
            "          30       0.16      0.06      0.09       150\n",
            "          31       0.21      0.35      0.26       270\n",
            "          32       0.23      0.47      0.31        60\n",
            "          33       0.74      0.28      0.40       210\n",
            "          34       0.14      0.14      0.14       120\n",
            "          35       0.49      0.36      0.42       390\n",
            "          36       0.39      0.29      0.33       120\n",
            "          37       0.66      0.32      0.43        60\n",
            "          38       0.56      0.58      0.57       690\n",
            "          39       0.92      0.61      0.73        90\n",
            "          40       0.43      0.30      0.35        90\n",
            "          41       0.35      0.37      0.36        60\n",
            "          42       0.37      0.30      0.33        90\n",
            "\n",
            "    accuracy                           0.38     12630\n",
            "   macro avg       0.37      0.32      0.33     12630\n",
            "weighted avg       0.41      0.38      0.38     12630\n",
            "\n"
          ]
        }
      ]
    },
    {
      "cell_type": "code",
      "source": [
        "y_pred=pd.DataFrame(y_pred,columns=[\"ClassId\"])\n",
        "y_pred=y_pred.astype(int)\n",
        "(abs(y_pred-y_test).value_counts()/len(y_pred))"
      ],
      "metadata": {
        "id": "98ALhcDd-gvK",
        "colab": {
          "base_uri": "https://localhost:8080/"
        },
        "outputId": "4f3b744b-f807-49d4-a37a-559b90e9add7"
      },
      "execution_count": 20,
      "outputs": [
        {
          "output_type": "execute_result",
          "data": {
            "text/plain": [
              "ClassId\n",
              "0          0.378385\n",
              "1          0.088519\n",
              "2          0.070230\n",
              "3          0.066746\n",
              "4          0.059699\n",
              "5          0.040618\n",
              "6          0.040063\n",
              "7          0.028741\n",
              "8          0.019794\n",
              "10         0.018527\n",
              "13         0.016390\n",
              "11         0.016390\n",
              "9          0.015914\n",
              "14         0.013302\n",
              "15         0.010610\n",
              "26         0.009976\n",
              "20         0.009343\n",
              "12         0.008709\n",
              "22         0.006888\n",
              "23         0.006651\n",
              "36         0.006413\n",
              "17         0.006176\n",
              "16         0.005859\n",
              "27         0.005622\n",
              "18         0.005226\n",
              "28         0.004513\n",
              "24         0.004355\n",
              "25         0.004355\n",
              "29         0.004196\n",
              "19         0.003959\n",
              "30         0.003563\n",
              "35         0.003563\n",
              "34         0.003405\n",
              "21         0.003246\n",
              "31         0.002692\n",
              "37         0.002692\n",
              "33         0.001742\n",
              "38         0.001188\n",
              "32         0.001108\n",
              "40         0.000396\n",
              "42         0.000158\n",
              "39         0.000079\n",
              "dtype: float64"
            ]
          },
          "metadata": {},
          "execution_count": 20
        }
      ]
    },
    {
      "cell_type": "markdown",
      "source": [
        "This computes the difference of real class and the estimated class. We have around 37% of 0, what means that 37% of data is properly estimated."
      ],
      "metadata": {
        "id": "bxs1jYK2fT46"
      }
    },
    {
      "cell_type": "code",
      "source": [
        "acc=[]\n",
        "y_test=pd.DataFrame(y_test,columns=[\"ClassId\"])\n",
        "y_test=y_test.astype(int)\n",
        "\n",
        "for neigh in trange(2,2000,200):\n",
        "  knn = KNeighborsClassifier(n_neighbors=neigh)\n",
        "  knn.fit(x_train, y_train)\n",
        "  y_pred=knn.predict(x_test)\n",
        "  y_pred=pd.DataFrame(y_pred,columns=[\"ClassId\"])\n",
        "  y_pred=y_pred.astype(int)\n",
        "  acc.append((abs(y_pred-y_test).value_counts()/len(y_pred))[0])"
      ],
      "metadata": {
        "id": "_j2cKFKvdGlK",
        "colab": {
          "base_uri": "https://localhost:8080/"
        },
        "outputId": "4e30e58a-4ddd-4a5a-f07f-78b186785f48"
      },
      "execution_count": 21,
      "outputs": [
        {
          "output_type": "stream",
          "name": "stderr",
          "text": [
            "100%|██████████| 10/10 [16:56<00:00, 101.61s/it]\n"
          ]
        }
      ]
    },
    {
      "cell_type": "code",
      "source": [
        "a=range(2,2000,200)\n",
        "plt.plot(a,acc)\n",
        "plt.xlabel('Neighbours number')\n",
        "plt.ylabel('Accuracy in %')\n",
        "plt.title('Evolution of accuracy depending on neighbours number')"
      ],
      "metadata": {
        "id": "t1U601mfztyH",
        "colab": {
          "base_uri": "https://localhost:8080/",
          "height": 312
        },
        "outputId": "48be3814-44bc-4af6-cba0-d4f31dc10e91"
      },
      "execution_count": 22,
      "outputs": [
        {
          "output_type": "execute_result",
          "data": {
            "text/plain": [
              "Text(0.5, 1.0, 'Evolution of accuracy depending on neighbours number')"
            ]
          },
          "metadata": {},
          "execution_count": 22
        },
        {
          "output_type": "display_data",
          "data": {
            "text/plain": [
              "<Figure size 432x288 with 1 Axes>"
            ],
            "image/png": "[encoded data removed]"
          },
          "metadata": {
            "needs_background": "light"
          }
        }
      ]
    },
    {
      "cell_type": "markdown",
      "source": [
        "# PCA"
      ],
      "metadata": {
        "id": "4uuLojaZ4701"
      }
    },
    {
      "cell_type": "code",
      "source": [
        "from sklearn.decomposition import PCA\n",
        "pca = PCA(n_components=64)"
      ],
      "metadata": {
        "id": "i6Y45ZX35cdo"
      },
      "execution_count": 62,
      "outputs": []
    },
    {
      "cell_type": "code",
      "source": [
        "x_train_pca = pca.fit_transform(x_train)"
      ],
      "metadata": {
        "id": "jxKEWBCL5oR7"
      },
      "execution_count": 63,
      "outputs": []
    },
    {
      "cell_type": "code",
      "source": [
        "x_train_pca[0,0:5,]"
      ],
      "metadata": {
        "colab": {
          "base_uri": "https://localhost:8080/"
        },
        "id": "c8gR1QMJE-nd",
        "outputId": "e96d36aa-ab4c-433c-dd56-3f7a69cbc077"
      },
      "execution_count": 85,
      "outputs": [
        {
          "output_type": "execute_result",
          "data": {
            "text/plain": [
              "array([-19.20876989,   3.70651435,   5.04274275,  -3.51974612,\n",
              "         3.96467569])"
            ]
          },
          "metadata": {},
          "execution_count": 85
        }
      ]
    },
    {
      "cell_type": "code",
      "source": [
        "x_train[0,0:5]"
      ],
      "metadata": {
        "colab": {
          "base_uri": "https://localhost:8080/"
        },
        "id": "eSmWmAnxFBYd",
        "outputId": "bcf914c1-ef92-4fec-f0dd-673b8698e685"
      },
      "execution_count": 84,
      "outputs": [
        {
          "output_type": "execute_result",
          "data": {
            "text/plain": [
              "array([56, 51, 46, 56, 51], dtype=uint8)"
            ]
          },
          "metadata": {},
          "execution_count": 84
        }
      ]
    },
    {
      "cell_type": "code",
      "source": [
        "sum(pca.explained_variance_ratio_)"
      ],
      "metadata": {
        "id": "0qIbIRfUpm7_",
        "colab": {
          "base_uri": "https://localhost:8080/"
        },
        "outputId": "b05df881-eccc-458a-ac95-70ae8f9a8df8"
      },
      "execution_count": 64,
      "outputs": [
        {
          "output_type": "execute_result",
          "data": {
            "text/plain": [
              "0.9190610143503759"
            ]
          },
          "metadata": {},
          "execution_count": 64
        }
      ]
    },
    {
      "cell_type": "code",
      "source": [
        "x_test_pca=pca.fit_transform(x_test)"
      ],
      "metadata": {
        "id": "LhUfuZGfJLj5"
      },
      "execution_count": 65,
      "outputs": []
    },
    {
      "cell_type": "code",
      "source": [
        "x_test_pca[0,0:5]"
      ],
      "metadata": {
        "colab": {
          "base_uri": "https://localhost:8080/"
        },
        "id": "CbfHNkV8F7PE",
        "outputId": "9040fb23-1b9e-44bd-f148-8901a7a3463e"
      },
      "execution_count": 86,
      "outputs": [
        {
          "output_type": "execute_result",
          "data": {
            "text/plain": [
              "array([ 21.68520383,  20.28246124, -12.56508012,  -2.37343284,\n",
              "       -11.49861409])"
            ]
          },
          "metadata": {},
          "execution_count": 86
        }
      ]
    },
    {
      "cell_type": "code",
      "source": [
        "x_test[0,0:5]"
      ],
      "metadata": {
        "colab": {
          "base_uri": "https://localhost:8080/"
        },
        "id": "JtcLfqduF9k2",
        "outputId": "4f38c32a-34af-4344-86f7-ac04f41bdd9c"
      },
      "execution_count": 87,
      "outputs": [
        {
          "output_type": "execute_result",
          "data": {
            "text/plain": [
              "array([174, 139, 116, 171, 137], dtype=uint8)"
            ]
          },
          "metadata": {},
          "execution_count": 87
        }
      ]
    },
    {
      "cell_type": "code",
      "source": [
        "knn = KNeighborsClassifier(n_neighbors=2)"
      ],
      "metadata": {
        "id": "RTM5FyUS8MzS"
      },
      "execution_count": 79,
      "outputs": []
    },
    {
      "cell_type": "code",
      "source": [
        "knn.fit(x_train_pca, y_train)"
      ],
      "metadata": {
        "id": "w1KIZvvAqTwc",
        "colab": {
          "base_uri": "https://localhost:8080/"
        },
        "outputId": "df8e5d62-93c7-4da0-9283-088dd8b40814"
      },
      "execution_count": 80,
      "outputs": [
        {
          "output_type": "execute_result",
          "data": {
            "text/plain": [
              "KNeighborsClassifier(n_neighbors=2)"
            ]
          },
          "metadata": {},
          "execution_count": 80
        }
      ]
    },
    {
      "cell_type": "code",
      "source": [
        "y_pred_pca=knn.predict(x_test_pca)"
      ],
      "metadata": {
        "id": "JxCxyFAFqopF"
      },
      "execution_count": 88,
      "outputs": []
    },
    {
      "cell_type": "code",
      "source": [
        "y_pred_pca=pd.DataFrame(y_pred_pca,columns=['ClassId'])\n",
        "y_pred_pca['ClassId']=y_pred_pca['ClassId'].astype(int)\n",
        "abs(y_pred_pca-y_test).value_counts()/len(y_test)"
      ],
      "metadata": {
        "id": "LAnLJVpfrBrc",
        "colab": {
          "base_uri": "https://localhost:8080/"
        },
        "outputId": "a196a687-d64b-4100-84f5-8a17025b42a4"
      },
      "execution_count": 90,
      "outputs": [
        {
          "output_type": "execute_result",
          "data": {
            "text/plain": [
              "ClassId\n",
              "1          0.085669\n",
              "0          0.075218\n",
              "3          0.072130\n",
              "2          0.069834\n",
              "6          0.052019\n",
              "5          0.051306\n",
              "4          0.050673\n",
              "8          0.039351\n",
              "11         0.033096\n",
              "10         0.031433\n",
              "13         0.029295\n",
              "12         0.027712\n",
              "9          0.026287\n",
              "7          0.026207\n",
              "20         0.024386\n",
              "25         0.023832\n",
              "16         0.020823\n",
              "14         0.020111\n",
              "21         0.019873\n",
              "15         0.018606\n",
              "23         0.017577\n",
              "18         0.017181\n",
              "26         0.016548\n",
              "24         0.015677\n",
              "17         0.014727\n",
              "19         0.014410\n",
              "28         0.014410\n",
              "22         0.014093\n",
              "27         0.012589\n",
              "31         0.010530\n",
              "30         0.007838\n",
              "29         0.007363\n",
              "35         0.007284\n",
              "34         0.006334\n",
              "36         0.006334\n",
              "32         0.005384\n",
              "37         0.004592\n",
              "33         0.003563\n",
              "40         0.003009\n",
              "38         0.001425\n",
              "39         0.001029\n",
              "41         0.000238\n",
              "dtype: float64"
            ]
          },
          "metadata": {},
          "execution_count": 90
        }
      ]
    },
    {
      "cell_type": "code",
      "source": [
        "confusion_matrix(y_test,y_pred)"
      ],
      "metadata": {
        "id": "7n2RmOsPyBxe",
        "colab": {
          "base_uri": "https://localhost:8080/"
        },
        "outputId": "45875c94-ab4d-4053-a7db-9b0090fb1749"
      },
      "execution_count": 33,
      "outputs": [
        {
          "output_type": "execute_result",
          "data": {
            "text/plain": [
              "array([[  0,  22,  15, ...,   0,   0,   0],\n",
              "       [  0, 374, 196, ...,   0,   0,   0],\n",
              "       [  0, 141, 238, ...,   0,   0,   0],\n",
              "       ...,\n",
              "       [  0,  39,   1, ...,   0,   0,   0],\n",
              "       [  0,   2,   2, ...,   0,   0,   0],\n",
              "       [  0,  31,   0, ...,   0,   0,   0]])"
            ]
          },
          "metadata": {},
          "execution_count": 33
        }
      ]
    },
    {
      "cell_type": "code",
      "source": [
        "print(classification_report(y_test, y_pred))"
      ],
      "metadata": {
        "id": "e2t1HfKpyTWE",
        "colab": {
          "base_uri": "https://localhost:8080/"
        },
        "outputId": "5d88471f-20f0-49f0-de4f-aaf8391ad7f5"
      },
      "execution_count": 34,
      "outputs": [
        {
          "output_type": "stream",
          "name": "stdout",
          "text": [
            "              precision    recall  f1-score   support\n",
            "\n",
            "           0       0.00      0.00      0.00        60\n",
            "           1       0.18      0.52      0.26       720\n",
            "           2       0.14      0.32      0.19       750\n",
            "           3       0.10      0.03      0.04       450\n",
            "           4       0.11      0.09      0.10       660\n",
            "           5       0.11      0.22      0.14       630\n",
            "           6       0.00      0.00      0.00       150\n",
            "           7       0.10      0.20      0.13       450\n",
            "           8       0.06      0.10      0.08       450\n",
            "           9       0.00      0.00      0.00       480\n",
            "          10       0.21      0.52      0.30       660\n",
            "          11       0.33      0.16      0.22       420\n",
            "          12       0.65      0.29      0.40       690\n",
            "          13       0.45      0.83      0.59       720\n",
            "          14       0.00      0.00      0.00       270\n",
            "          15       0.00      0.00      0.00       210\n",
            "          16       0.00      0.00      0.00       150\n",
            "          17       1.00      0.09      0.16       360\n",
            "          18       0.22      0.12      0.16       390\n",
            "          19       0.00      0.00      0.00        60\n",
            "          20       0.00      0.00      0.00        90\n",
            "          21       0.00      0.00      0.00        90\n",
            "          22       0.00      0.00      0.00       120\n",
            "          23       0.00      0.00      0.00       150\n",
            "          24       0.00      0.00      0.00        90\n",
            "          25       0.49      0.19      0.27       480\n",
            "          26       0.52      0.17      0.26       180\n",
            "          27       0.00      0.00      0.00        60\n",
            "          28       0.00      0.00      0.00       150\n",
            "          29       0.00      0.00      0.00        90\n",
            "          30       0.00      0.00      0.00       150\n",
            "          31       0.22      0.24      0.23       270\n",
            "          32       0.00      0.00      0.00        60\n",
            "          33       1.00      0.01      0.03       210\n",
            "          34       0.00      0.00      0.00       120\n",
            "          35       0.29      0.16      0.21       390\n",
            "          36       0.00      0.00      0.00       120\n",
            "          37       0.00      0.00      0.00        60\n",
            "          38       0.51      0.53      0.52       690\n",
            "          39       0.00      0.00      0.00        90\n",
            "          40       0.00      0.00      0.00        90\n",
            "          41       0.00      0.00      0.00        60\n",
            "          42       0.00      0.00      0.00        90\n",
            "\n",
            "    accuracy                           0.23     12630\n",
            "   macro avg       0.16      0.11      0.10     12630\n",
            "weighted avg       0.24      0.23      0.19     12630\n",
            "\n"
          ]
        },
        {
          "output_type": "stream",
          "name": "stderr",
          "text": [
            "/usr/local/lib/python3.8/dist-packages/sklearn/metrics/_classification.py:1318: UndefinedMetricWarning: Precision and F-score are ill-defined and being set to 0.0 in labels with no predicted samples. Use `zero_division` parameter to control this behavior.\n",
            "  _warn_prf(average, modifier, msg_start, len(result))\n",
            "/usr/local/lib/python3.8/dist-packages/sklearn/metrics/_classification.py:1318: UndefinedMetricWarning: Precision and F-score are ill-defined and being set to 0.0 in labels with no predicted samples. Use `zero_division` parameter to control this behavior.\n",
            "  _warn_prf(average, modifier, msg_start, len(result))\n",
            "/usr/local/lib/python3.8/dist-packages/sklearn/metrics/_classification.py:1318: UndefinedMetricWarning: Precision and F-score are ill-defined and being set to 0.0 in labels with no predicted samples. Use `zero_division` parameter to control this behavior.\n",
            "  _warn_prf(average, modifier, msg_start, len(result))\n"
          ]
        }
      ]
    },
    {
      "cell_type": "code",
      "source": [
        "## really difficult to classifiy classes 21,24 or 27 : we can take a look in our data to see if they look similar to other classes\n",
        "## Same thing for classes 14, 17 or 39 : they make look like no other sign "
      ],
      "metadata": {
        "id": "Q0t9EUOuqmsI"
      },
      "execution_count": 35,
      "outputs": []
    }
  ]
}