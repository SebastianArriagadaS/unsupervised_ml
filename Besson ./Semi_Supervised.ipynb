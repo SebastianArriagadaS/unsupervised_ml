{
  "nbformat": 4,
  "nbformat_minor": 0,
  "metadata": {
    "colab": {
      "provenance": [],
      "toc_visible": true
    },
    "kernelspec": {
      "name": "python3",
      "display_name": "Python 3"
    },
    "language_info": {
      "name": "python"
    }
  },
  "cells": [
    {
      "cell_type": "markdown",
      "source": [
        "# Imports"
      ],
      "metadata": {
        "id": "B0lMLNr5YAfo"
      }
    },
    {
      "cell_type": "code",
      "execution_count": 1,
      "metadata": {
        "id": "_7g7cJYTSD1h"
      },
      "outputs": [],
      "source": [
        "import pandas as pd\n",
        "import numpy as np\n",
        "import matplotlib.pyplot as plt\n",
        "import plotly.express as px\n",
        "from sklearn.model_selection import train_test_split\n",
        "from sklearn.preprocessing import OneHotEncoder\n",
        "import statistics as st\n",
        "import seaborn as sns\n",
        "from sklearn.neighbors import KNeighborsRegressor, KNeighborsClassifier\n",
        "import cv2\n",
        "import random\n",
        "from tqdm import tqdm, trange\n",
        "from sklearn.neighbors import KNeighborsClassifier\n",
        "from sklearn.preprocessing import StandardScaler\n",
        "from sklearn.metrics import accuracy_score, classification_report, confusion_matrix\n",
        "from sklearn.semi_supervised import LabelSpreading, LabelPropagation"
      ]
    },
    {
      "cell_type": "code",
      "source": [
        "from google.colab import drive\n",
        "drive.mount('/content/drive')"
      ],
      "metadata": {
        "colab": {
          "base_uri": "https://localhost:8080/"
        },
        "id": "UkvCfhzESeqn",
        "outputId": "3fe6723b-05b8-416a-9168-915be4e32946"
      },
      "execution_count": 2,
      "outputs": [
        {
          "output_type": "stream",
          "name": "stdout",
          "text": [
            "Mounted at /content/drive\n"
          ]
        }
      ]
    },
    {
      "cell_type": "code",
      "source": [
        "df_train=pd.read_csv(\"/content/drive/MyDrive/Deep Learning/data/Train.csv\")\n",
        "df_train['Path']=df_train.Path.apply(lambda x: \"/content/drive/MyDrive/Deep Learning/data/\"+x) ## change and normalize path\n",
        "df_train['ClassId']=df_train.ClassId.astype(str)\n",
        "\n",
        "df_test=pd.read_csv(\"/content/drive/MyDrive/Deep Learning/data/Test.csv\")\n",
        "df_test['Path']=df_test.Path.apply(lambda x: \"/content/drive/MyDrive/Deep Learning/data/\"+x) ## change and normalize path\n",
        "df_test['ClassId']=df_test.ClassId.astype(str)"
      ],
      "metadata": {
        "id": "4BkzpV9pTUiB"
      },
      "execution_count": 3,
      "outputs": []
    },
    {
      "cell_type": "code",
      "source": [
        "x_train=np.load(\"/content/drive/MyDrive/Deep Learning/df_im.npy\")\n",
        "x_test=np.load(\"/content/drive/MyDrive/Deep Learning/df_im_test.npy\")\n",
        "y_train=df_train['ClassId']\n",
        "y_test=df_test['ClassId']\n",
        "y_test=y_test.astype(int)"
      ],
      "metadata": {
        "id": "Ya34n35DTYcV"
      },
      "execution_count": 4,
      "outputs": []
    },
    {
      "cell_type": "code",
      "source": [
        "assert x_train.shape==(39209, 3072)\n",
        "assert x_test.shape==(12630, 3072)\n",
        "assert y_train.shape == (39209,)\n",
        "assert y_test.shape == (12630,)"
      ],
      "metadata": {
        "id": "guGLOs_zTdGZ"
      },
      "execution_count": 5,
      "outputs": []
    },
    {
      "cell_type": "code",
      "source": [
        "x_train_lab, x_test_unlab, y_train_lab, y_test_unlab = train_test_split(x_train, y_train, test_size=0.8, random_state=1, stratify=y_train)"
      ],
      "metadata": {
        "id": "YKcUlG24Tz3Q"
      },
      "execution_count": 6,
      "outputs": []
    },
    {
      "cell_type": "code",
      "source": [
        "knn=KNeighborsClassifier()\n",
        "knn.fit(x_train_lab, y_train_lab)"
      ],
      "metadata": {
        "colab": {
          "base_uri": "https://localhost:8080/"
        },
        "id": "bUVn1eacU75T",
        "outputId": "28d7fc6d-ca6a-43ca-9e46-a250fa4f9ff9"
      },
      "execution_count": 7,
      "outputs": [
        {
          "output_type": "execute_result",
          "data": {
            "text/plain": [
              "KNeighborsClassifier()"
            ]
          },
          "metadata": {},
          "execution_count": 7
        }
      ]
    },
    {
      "cell_type": "code",
      "source": [
        "knn.predict(x_test)"
      ],
      "metadata": {
        "colab": {
          "base_uri": "https://localhost:8080/"
        },
        "id": "t9Pciy4aVjmS",
        "outputId": "2fdb6780-6998-4c46-8627-258b278f06ee"
      },
      "execution_count": 8,
      "outputs": [
        {
          "output_type": "execute_result",
          "data": {
            "text/plain": [
              "array(['1', '15', '36', ..., '3', '16', '10'], dtype=object)"
            ]
          },
          "metadata": {},
          "execution_count": 8
        }
      ]
    },
    {
      "cell_type": "code",
      "source": [
        "knn.score(x_test_unlab,y_test_unlab)"
      ],
      "metadata": {
        "colab": {
          "base_uri": "https://localhost:8080/"
        },
        "id": "Nbm-NFlrWsfu",
        "outputId": "c2427aab-3072-4e16-db5e-65f99fbfa539"
      },
      "execution_count": 9,
      "outputs": [
        {
          "output_type": "execute_result",
          "data": {
            "text/plain": [
              "0.6591430757459832"
            ]
          },
          "metadata": {},
          "execution_count": 9
        }
      ]
    },
    {
      "cell_type": "markdown",
      "source": [
        "# Label spreading"
      ],
      "metadata": {
        "id": "dt-FW7zCZwO9"
      }
    },
    {
      "cell_type": "code",
      "source": [
        "x_train_mixed = np.concatenate((x_train_lab, x_test_unlab))"
      ],
      "metadata": {
        "id": "KDuqTvcvZyQ2"
      },
      "execution_count": 10,
      "outputs": []
    },
    {
      "cell_type": "code",
      "source": [
        "pd.DataFrame(x_train_mixed)"
      ],
      "metadata": {
        "colab": {
          "base_uri": "https://localhost:8080/",
          "height": 419
        },
        "id": "kH9M8KCjty5K",
        "outputId": "a2f6fcec-cf3a-4ced-c14e-7d9416f021b7"
      },
      "execution_count": 11,
      "outputs": [
        {
          "output_type": "execute_result",
          "data": {
            "text/plain": [
              "       0     1     2     3     4     5     6     7     8     9     ...  3062  \\\n",
              "0        57    67    57    66    73    74    51    71    78    43  ...    24   \n",
              "1        49   110   174    50   111   173    51   111   171    50  ...    21   \n",
              "2       255   255   255   255   255   255   255   255   255   255  ...    59   \n",
              "3        45    42    44    44    41    43    41    37    38    40  ...    64   \n",
              "4        23    28    35    20    23    30    24    27    34    21  ...    27   \n",
              "...     ...   ...   ...   ...   ...   ...   ...   ...   ...   ...  ...   ...   \n",
              "39204    53    53    51    46    46    42    50    47    45    52  ...   255   \n",
              "39205    18    18    28    15    16    22    15    15    18    15  ...    15   \n",
              "39206    51    61    71    50    59    79    45    53    58    51  ...    57   \n",
              "39207    56    61    66    73    65    71   172   127   130   254  ...    78   \n",
              "39208   255   255   255   255   255   255   255   255   255   255  ...    53   \n",
              "\n",
              "       3063  3064  3065  3066  3067  3068  3069  3070  3071  \n",
              "0        36    34    30    41    39    35    45    49    45  \n",
              "1        23    28    24    25    31    31    26    34    38  \n",
              "2        71    58    55    69    53    48    57    46    41  \n",
              "3        85    73    63    83    73    65    83    74    66  \n",
              "4        18    22    28    17    20    23    21    25    27  \n",
              "...     ...   ...   ...   ...   ...   ...   ...   ...   ...  \n",
              "39204   255   255   255   255   255   255   255   255   255  \n",
              "39205    27    20    17    28    20    16    35    25    19  \n",
              "39206    49    58    69    50    57    69    49    54    63  \n",
              "39207    76    82    85    68    75    74    75    82    87  \n",
              "39208    53    51    60    56    53    59    59    58    66  \n",
              "\n",
              "[39209 rows x 3072 columns]"
            ],
            "text/html": [
              "\n",
              "  <div id=\"df-590adb7f-73f8-45f9-8dde-c290fbef820b\">\n",
              "    <div class=\"colab-df-container\">\n",
              "      <div>\n",
              "<style scoped>\n",
              "    .dataframe tbody tr th:only-of-type {\n",
              "        vertical-align: middle;\n",
              "    }\n",
              "\n",
              "    .dataframe tbody tr th {\n",
              "        vertical-align: top;\n",
              "    }\n",
              "\n",
              "    .dataframe thead th {\n",
              "        text-align: right;\n",
              "    }\n",
              "</style>\n",
              "<table border=\"1\" class=\"dataframe\">\n",
              "  <thead>\n",
              "    <tr style=\"text-align: right;\">\n",
              "      <th></th>\n",
              "      <th>0</th>\n",
              "      <th>1</th>\n",
              "      <th>2</th>\n",
              "      <th>3</th>\n",
              "      <th>4</th>\n",
              "      <th>5</th>\n",
              "      <th>6</th>\n",
              "      <th>7</th>\n",
              "      <th>8</th>\n",
              "      <th>9</th>\n",
              "      <th>...</th>\n",
              "      <th>3062</th>\n",
              "      <th>3063</th>\n",
              "      <th>3064</th>\n",
              "      <th>3065</th>\n",
              "      <th>3066</th>\n",
              "      <th>3067</th>\n",
              "      <th>3068</th>\n",
              "      <th>3069</th>\n",
              "      <th>3070</th>\n",
              "      <th>3071</th>\n",
              "    </tr>\n",
              "  </thead>\n",
              "  <tbody>\n",
              "    <tr>\n",
              "      <th>0</th>\n",
              "      <td>57</td>\n",
              "      <td>67</td>\n",
              "      <td>57</td>\n",
              "      <td>66</td>\n",
              "      <td>73</td>\n",
              "      <td>74</td>\n",
              "      <td>51</td>\n",
              "      <td>71</td>\n",
              "      <td>78</td>\n",
              "      <td>43</td>\n",
              "      <td>...</td>\n",
              "      <td>24</td>\n",
              "      <td>36</td>\n",
              "      <td>34</td>\n",
              "      <td>30</td>\n",
              "      <td>41</td>\n",
              "      <td>39</td>\n",
              "      <td>35</td>\n",
              "      <td>45</td>\n",
              "      <td>49</td>\n",
              "      <td>45</td>\n",
              "    </tr>\n",
              "    <tr>\n",
              "      <th>1</th>\n",
              "      <td>49</td>\n",
              "      <td>110</td>\n",
              "      <td>174</td>\n",
              "      <td>50</td>\n",
              "      <td>111</td>\n",
              "      <td>173</td>\n",
              "      <td>51</td>\n",
              "      <td>111</td>\n",
              "      <td>171</td>\n",
              "      <td>50</td>\n",
              "      <td>...</td>\n",
              "      <td>21</td>\n",
              "      <td>23</td>\n",
              "      <td>28</td>\n",
              "      <td>24</td>\n",
              "      <td>25</td>\n",
              "      <td>31</td>\n",
              "      <td>31</td>\n",
              "      <td>26</td>\n",
              "      <td>34</td>\n",
              "      <td>38</td>\n",
              "    </tr>\n",
              "    <tr>\n",
              "      <th>2</th>\n",
              "      <td>255</td>\n",
              "      <td>255</td>\n",
              "      <td>255</td>\n",
              "      <td>255</td>\n",
              "      <td>255</td>\n",
              "      <td>255</td>\n",
              "      <td>255</td>\n",
              "      <td>255</td>\n",
              "      <td>255</td>\n",
              "      <td>255</td>\n",
              "      <td>...</td>\n",
              "      <td>59</td>\n",
              "      <td>71</td>\n",
              "      <td>58</td>\n",
              "      <td>55</td>\n",
              "      <td>69</td>\n",
              "      <td>53</td>\n",
              "      <td>48</td>\n",
              "      <td>57</td>\n",
              "      <td>46</td>\n",
              "      <td>41</td>\n",
              "    </tr>\n",
              "    <tr>\n",
              "      <th>3</th>\n",
              "      <td>45</td>\n",
              "      <td>42</td>\n",
              "      <td>44</td>\n",
              "      <td>44</td>\n",
              "      <td>41</td>\n",
              "      <td>43</td>\n",
              "      <td>41</td>\n",
              "      <td>37</td>\n",
              "      <td>38</td>\n",
              "      <td>40</td>\n",
              "      <td>...</td>\n",
              "      <td>64</td>\n",
              "      <td>85</td>\n",
              "      <td>73</td>\n",
              "      <td>63</td>\n",
              "      <td>83</td>\n",
              "      <td>73</td>\n",
              "      <td>65</td>\n",
              "      <td>83</td>\n",
              "      <td>74</td>\n",
              "      <td>66</td>\n",
              "    </tr>\n",
              "    <tr>\n",
              "      <th>4</th>\n",
              "      <td>23</td>\n",
              "      <td>28</td>\n",
              "      <td>35</td>\n",
              "      <td>20</td>\n",
              "      <td>23</td>\n",
              "      <td>30</td>\n",
              "      <td>24</td>\n",
              "      <td>27</td>\n",
              "      <td>34</td>\n",
              "      <td>21</td>\n",
              "      <td>...</td>\n",
              "      <td>27</td>\n",
              "      <td>18</td>\n",
              "      <td>22</td>\n",
              "      <td>28</td>\n",
              "      <td>17</td>\n",
              "      <td>20</td>\n",
              "      <td>23</td>\n",
              "      <td>21</td>\n",
              "      <td>25</td>\n",
              "      <td>27</td>\n",
              "    </tr>\n",
              "    <tr>\n",
              "      <th>...</th>\n",
              "      <td>...</td>\n",
              "      <td>...</td>\n",
              "      <td>...</td>\n",
              "      <td>...</td>\n",
              "      <td>...</td>\n",
              "      <td>...</td>\n",
              "      <td>...</td>\n",
              "      <td>...</td>\n",
              "      <td>...</td>\n",
              "      <td>...</td>\n",
              "      <td>...</td>\n",
              "      <td>...</td>\n",
              "      <td>...</td>\n",
              "      <td>...</td>\n",
              "      <td>...</td>\n",
              "      <td>...</td>\n",
              "      <td>...</td>\n",
              "      <td>...</td>\n",
              "      <td>...</td>\n",
              "      <td>...</td>\n",
              "      <td>...</td>\n",
              "    </tr>\n",
              "    <tr>\n",
              "      <th>39204</th>\n",
              "      <td>53</td>\n",
              "      <td>53</td>\n",
              "      <td>51</td>\n",
              "      <td>46</td>\n",
              "      <td>46</td>\n",
              "      <td>42</td>\n",
              "      <td>50</td>\n",
              "      <td>47</td>\n",
              "      <td>45</td>\n",
              "      <td>52</td>\n",
              "      <td>...</td>\n",
              "      <td>255</td>\n",
              "      <td>255</td>\n",
              "      <td>255</td>\n",
              "      <td>255</td>\n",
              "      <td>255</td>\n",
              "      <td>255</td>\n",
              "      <td>255</td>\n",
              "      <td>255</td>\n",
              "      <td>255</td>\n",
              "      <td>255</td>\n",
              "    </tr>\n",
              "    <tr>\n",
              "      <th>39205</th>\n",
              "      <td>18</td>\n",
              "      <td>18</td>\n",
              "      <td>28</td>\n",
              "      <td>15</td>\n",
              "      <td>16</td>\n",
              "      <td>22</td>\n",
              "      <td>15</td>\n",
              "      <td>15</td>\n",
              "      <td>18</td>\n",
              "      <td>15</td>\n",
              "      <td>...</td>\n",
              "      <td>15</td>\n",
              "      <td>27</td>\n",
              "      <td>20</td>\n",
              "      <td>17</td>\n",
              "      <td>28</td>\n",
              "      <td>20</td>\n",
              "      <td>16</td>\n",
              "      <td>35</td>\n",
              "      <td>25</td>\n",
              "      <td>19</td>\n",
              "    </tr>\n",
              "    <tr>\n",
              "      <th>39206</th>\n",
              "      <td>51</td>\n",
              "      <td>61</td>\n",
              "      <td>71</td>\n",
              "      <td>50</td>\n",
              "      <td>59</td>\n",
              "      <td>79</td>\n",
              "      <td>45</td>\n",
              "      <td>53</td>\n",
              "      <td>58</td>\n",
              "      <td>51</td>\n",
              "      <td>...</td>\n",
              "      <td>57</td>\n",
              "      <td>49</td>\n",
              "      <td>58</td>\n",
              "      <td>69</td>\n",
              "      <td>50</td>\n",
              "      <td>57</td>\n",
              "      <td>69</td>\n",
              "      <td>49</td>\n",
              "      <td>54</td>\n",
              "      <td>63</td>\n",
              "    </tr>\n",
              "    <tr>\n",
              "      <th>39207</th>\n",
              "      <td>56</td>\n",
              "      <td>61</td>\n",
              "      <td>66</td>\n",
              "      <td>73</td>\n",
              "      <td>65</td>\n",
              "      <td>71</td>\n",
              "      <td>172</td>\n",
              "      <td>127</td>\n",
              "      <td>130</td>\n",
              "      <td>254</td>\n",
              "      <td>...</td>\n",
              "      <td>78</td>\n",
              "      <td>76</td>\n",
              "      <td>82</td>\n",
              "      <td>85</td>\n",
              "      <td>68</td>\n",
              "      <td>75</td>\n",
              "      <td>74</td>\n",
              "      <td>75</td>\n",
              "      <td>82</td>\n",
              "      <td>87</td>\n",
              "    </tr>\n",
              "    <tr>\n",
              "      <th>39208</th>\n",
              "      <td>255</td>\n",
              "      <td>255</td>\n",
              "      <td>255</td>\n",
              "      <td>255</td>\n",
              "      <td>255</td>\n",
              "      <td>255</td>\n",
              "      <td>255</td>\n",
              "      <td>255</td>\n",
              "      <td>255</td>\n",
              "      <td>255</td>\n",
              "      <td>...</td>\n",
              "      <td>53</td>\n",
              "      <td>53</td>\n",
              "      <td>51</td>\n",
              "      <td>60</td>\n",
              "      <td>56</td>\n",
              "      <td>53</td>\n",
              "      <td>59</td>\n",
              "      <td>59</td>\n",
              "      <td>58</td>\n",
              "      <td>66</td>\n",
              "    </tr>\n",
              "  </tbody>\n",
              "</table>\n",
              "<p>39209 rows × 3072 columns</p>\n",
              "</div>\n",
              "      <button class=\"colab-df-convert\" onclick=\"convertToInteractive('df-590adb7f-73f8-45f9-8dde-c290fbef820b')\"\n",
              "              title=\"Convert this dataframe to an interactive table.\"\n",
              "              style=\"display:none;\">\n",
              "        \n",
              "  <svg xmlns=\"http://www.w3.org/2000/svg\" height=\"24px\"viewBox=\"0 0 24 24\"\n",
              "       width=\"24px\">\n",
              "    <path d=\"M0 0h24v24H0V0z\" fill=\"none\"/>\n",
              "    <path d=\"M18.56 5.44l.94 2.06.94-2.06 2.06-.94-2.06-.94-.94-2.06-.94 2.06-2.06.94zm-11 1L8.5 8.5l.94-2.06 2.06-.94-2.06-.94L8.5 2.5l-.94 2.06-2.06.94zm10 10l.94 2.06.94-2.06 2.06-.94-2.06-.94-.94-2.06-.94 2.06-2.06.94z\"/><path d=\"M17.41 7.96l-1.37-1.37c-.4-.4-.92-.59-1.43-.59-.52 0-1.04.2-1.43.59L10.3 9.45l-7.72 7.72c-.78.78-.78 2.05 0 2.83L4 21.41c.39.39.9.59 1.41.59.51 0 1.02-.2 1.41-.59l7.78-7.78 2.81-2.81c.8-.78.8-2.07 0-2.86zM5.41 20L4 18.59l7.72-7.72 1.47 1.35L5.41 20z\"/>\n",
              "  </svg>\n",
              "      </button>\n",
              "      \n",
              "  <style>\n",
              "    .colab-df-container {\n",
              "      display:flex;\n",
              "      flex-wrap:wrap;\n",
              "      gap: 12px;\n",
              "    }\n",
              "\n",
              "    .colab-df-convert {\n",
              "      background-color: #E8F0FE;\n",
              "      border: none;\n",
              "      border-radius: 50%;\n",
              "      cursor: pointer;\n",
              "      display: none;\n",
              "      fill: #1967D2;\n",
              "      height: 32px;\n",
              "      padding: 0 0 0 0;\n",
              "      width: 32px;\n",
              "    }\n",
              "\n",
              "    .colab-df-convert:hover {\n",
              "      background-color: #E2EBFA;\n",
              "      box-shadow: 0px 1px 2px rgba(60, 64, 67, 0.3), 0px 1px 3px 1px rgba(60, 64, 67, 0.15);\n",
              "      fill: #174EA6;\n",
              "    }\n",
              "\n",
              "    [theme=dark] .colab-df-convert {\n",
              "      background-color: #3B4455;\n",
              "      fill: #D2E3FC;\n",
              "    }\n",
              "\n",
              "    [theme=dark] .colab-df-convert:hover {\n",
              "      background-color: #434B5C;\n",
              "      box-shadow: 0px 1px 3px 1px rgba(0, 0, 0, 0.15);\n",
              "      filter: drop-shadow(0px 1px 2px rgba(0, 0, 0, 0.3));\n",
              "      fill: #FFFFFF;\n",
              "    }\n",
              "  </style>\n",
              "\n",
              "      <script>\n",
              "        const buttonEl =\n",
              "          document.querySelector('#df-590adb7f-73f8-45f9-8dde-c290fbef820b button.colab-df-convert');\n",
              "        buttonEl.style.display =\n",
              "          google.colab.kernel.accessAllowed ? 'block' : 'none';\n",
              "\n",
              "        async function convertToInteractive(key) {\n",
              "          const element = document.querySelector('#df-590adb7f-73f8-45f9-8dde-c290fbef820b');\n",
              "          const dataTable =\n",
              "            await google.colab.kernel.invokeFunction('convertToInteractive',\n",
              "                                                     [key], {});\n",
              "          if (!dataTable) return;\n",
              "\n",
              "          const docLinkHtml = 'Like what you see? Visit the ' +\n",
              "            '<a target=\"_blank\" href=https://colab.research.google.com/notebooks/data_table.ipynb>data table notebook</a>'\n",
              "            + ' to learn more about interactive tables.';\n",
              "          element.innerHTML = '';\n",
              "          dataTable['output_type'] = 'display_data';\n",
              "          await google.colab.output.renderOutput(dataTable, element);\n",
              "          const docLink = document.createElement('div');\n",
              "          docLink.innerHTML = docLinkHtml;\n",
              "          element.appendChild(docLink);\n",
              "        }\n",
              "      </script>\n",
              "    </div>\n",
              "  </div>\n",
              "  "
            ]
          },
          "metadata": {},
          "execution_count": 11
        }
      ]
    },
    {
      "cell_type": "code",
      "source": [
        "nolabel = [-1 for _ in range(len(y_test_unlab))]\n",
        "y_train_mixed = np.concatenate((y_train_lab, nolabel))\n",
        "y_train_mixed=y_train_mixed.astype(int)"
      ],
      "metadata": {
        "id": "1ML1ocYnaOqg"
      },
      "execution_count": 12,
      "outputs": []
    },
    {
      "cell_type": "code",
      "source": [
        "model = LabelSpreading(kernel='knn',n_neighbors=2)\n",
        "model.fit(x_train_mixed, y_train_mixed)"
      ],
      "metadata": {
        "colab": {
          "base_uri": "https://localhost:8080/"
        },
        "id": "t2Vuq8QQzVV-",
        "outputId": "e84cce07-f620-4b25-899b-fd89d2071f99"
      },
      "execution_count": 13,
      "outputs": [
        {
          "output_type": "execute_result",
          "data": {
            "text/plain": [
              "LabelSpreading(kernel='knn', n_neighbors=2)"
            ]
          },
          "metadata": {},
          "execution_count": 13
        }
      ]
    },
    {
      "cell_type": "code",
      "source": [
        "y_pred=model.predict(x_test)"
      ],
      "metadata": {
        "id": "UxD6hTBM04Je",
        "colab": {
          "base_uri": "https://localhost:8080/"
        },
        "outputId": "6273c269-1e4a-4a76-d1d7-b33da5ee901d"
      },
      "execution_count": 14,
      "outputs": [
        {
          "output_type": "stream",
          "name": "stderr",
          "text": [
            "/usr/local/lib/python3.8/dist-packages/sklearn/semi_supervised/_label_propagation.py:222: RuntimeWarning: invalid value encountered in true_divide\n",
            "  probabilities /= normalizer\n"
          ]
        }
      ]
    },
    {
      "cell_type": "code",
      "source": [
        "print(classification_report(y_test,y_pred))"
      ],
      "metadata": {
        "colab": {
          "base_uri": "https://localhost:8080/"
        },
        "id": "r2KzSO8W1PWK",
        "outputId": "46c50c9e-e9d1-4486-dcb2-a5aab01bca0f"
      },
      "execution_count": 15,
      "outputs": [
        {
          "output_type": "stream",
          "name": "stdout",
          "text": [
            "              precision    recall  f1-score   support\n",
            "\n",
            "           0       0.01      0.62      0.01        60\n",
            "           1       0.29      0.21      0.24       720\n",
            "           2       0.28      0.15      0.19       750\n",
            "           3       0.11      0.10      0.11       450\n",
            "           4       0.27      0.20      0.23       660\n",
            "           5       0.20      0.19      0.20       630\n",
            "           6       0.49      0.22      0.30       150\n",
            "           7       0.20      0.19      0.19       450\n",
            "           8       0.27      0.15      0.19       450\n",
            "           9       0.50      0.21      0.30       480\n",
            "          10       0.48      0.34      0.40       660\n",
            "          11       0.69      0.22      0.34       420\n",
            "          12       0.66      0.30      0.41       690\n",
            "          13       0.74      0.50      0.60       720\n",
            "          14       0.92      0.26      0.40       270\n",
            "          15       0.27      0.14      0.18       210\n",
            "          16       0.59      0.51      0.55       150\n",
            "          17       0.94      0.53      0.68       360\n",
            "          18       0.36      0.25      0.30       390\n",
            "          19       0.05      0.07      0.06        60\n",
            "          20       0.29      0.11      0.16        90\n",
            "          21       0.14      0.03      0.05        90\n",
            "          22       0.33      0.23      0.27       120\n",
            "          23       0.22      0.13      0.17       150\n",
            "          24       0.00      0.00      0.00        90\n",
            "          25       0.24      0.09      0.13       480\n",
            "          26       0.35      0.26      0.30       180\n",
            "          27       0.09      0.05      0.06        60\n",
            "          28       0.11      0.06      0.08       150\n",
            "          29       0.21      0.07      0.10        90\n",
            "          30       0.10      0.02      0.03       150\n",
            "          31       0.17      0.14      0.15       270\n",
            "          32       0.32      0.33      0.33        60\n",
            "          33       0.84      0.17      0.28       210\n",
            "          34       0.14      0.09      0.11       120\n",
            "          35       0.52      0.26      0.35       390\n",
            "          36       0.06      0.04      0.05       120\n",
            "          37       0.45      0.15      0.23        60\n",
            "          38       0.59      0.33      0.42       690\n",
            "          39       0.94      0.18      0.30        90\n",
            "          40       0.35      0.17      0.23        90\n",
            "          41       0.12      0.07      0.09        60\n",
            "          42       0.35      0.16      0.22        90\n",
            "\n",
            "    accuracy                           0.23     12630\n",
            "   macro avg       0.35      0.20      0.23     12630\n",
            "weighted avg       0.41      0.23      0.28     12630\n",
            "\n"
          ]
        }
      ]
    },
    {
      "cell_type": "code",
      "source": [
        "y_test=pd.DataFrame(y_test,columns=['ClassId'])\n",
        "y_test['ClassId']=y_test['ClassId'].astype(int)\n",
        "y_pred=pd.DataFrame(y_pred,columns=['ClassId'])\n",
        "y_pred['ClassId']=y_pred['ClassId'].astype(int)\n",
        "abs(y_pred-y_test).value_counts()/len(y_test)"
      ],
      "metadata": {
        "colab": {
          "base_uri": "https://localhost:8080/"
        },
        "id": "XZiqZdsFPcQr",
        "outputId": "db4e9768-95c9-48e6-c98c-45b7c5d6376b"
      },
      "execution_count": 16,
      "outputs": [
        {
          "output_type": "execute_result",
          "data": {
            "text/plain": [
              "ClassId\n",
              "0          0.230483\n",
              "1          0.083294\n",
              "2          0.062154\n",
              "4          0.053998\n",
              "5          0.047743\n",
              "3          0.045922\n",
              "13         0.034521\n",
              "6          0.031354\n",
              "7          0.031116\n",
              "8          0.030325\n",
              "10         0.029612\n",
              "12         0.026049\n",
              "11         0.024386\n",
              "25         0.022724\n",
              "9          0.022486\n",
              "38         0.021853\n",
              "31         0.014885\n",
              "14         0.013143\n",
              "18         0.012906\n",
              "35         0.011956\n",
              "15         0.011560\n",
              "17         0.010610\n",
              "26         0.010451\n",
              "22         0.009501\n",
              "16         0.009264\n",
              "36         0.008947\n",
              "33         0.007522\n",
              "20         0.007047\n",
              "23         0.006809\n",
              "24         0.006730\n",
              "34         0.006492\n",
              "19         0.006413\n",
              "28         0.006097\n",
              "29         0.006017\n",
              "21         0.005859\n",
              "30         0.005384\n",
              "27         0.004909\n",
              "37         0.004355\n",
              "39         0.003959\n",
              "40         0.003246\n",
              "32         0.003009\n",
              "42         0.002930\n",
              "41         0.001979\n",
              "dtype: float64"
            ]
          },
          "metadata": {},
          "execution_count": 16
        }
      ]
    },
    {
      "cell_type": "code",
      "source": [
        "x_train=np.load(\"/content/drive/MyDrive/Deep Learning/df_im.npy\")\n",
        "x_test=np.load(\"/content/drive/MyDrive/Deep Learning/df_im_test.npy\")\n",
        "y_train=df_train['ClassId']\n",
        "y_test=df_test['ClassId']\n",
        "y_test=y_test.astype(int)\n",
        "\n",
        "accuracies_k2=[]\n",
        "for i in trange(1,10):\n",
        "\n",
        "  x_train_lab, x_test_unlab, y_train_lab, y_test_unlab = train_test_split(x_train, y_train, test_size=i/10, random_state=1, stratify=y_train)\n",
        "  print(i/100)\n",
        "  x_train_mixed = np.concatenate((x_train_lab, x_test_unlab))\n",
        "  nolabel = [-1 for _ in range(len(y_test_unlab))]\n",
        "  y_train_mixed = np.concatenate((y_train_lab, nolabel))\n",
        "  y_train_mixed=y_train_mixed.astype(int)\n",
        "\n",
        "  model = LabelSpreading(kernel='knn',n_neighbors=2)\n",
        "  model.fit(x_train_mixed, y_train_mixed)\n",
        "\n",
        "  y_pred=model.predict(x_test)\n",
        "\n",
        "  y_test=pd.DataFrame(y_test,columns=['ClassId'])\n",
        "  y_test['ClassId']=y_test['ClassId'].astype(int)\n",
        "  y_pred=pd.DataFrame(y_pred,columns=['ClassId'])\n",
        "  y_pred['ClassId']=y_pred['ClassId'].astype(int)\n",
        "  a=abs(y_pred-y_test).value_counts()/len(y_test)\n",
        "  accuracies_k2.append(a[0])\n",
        "\n",
        "x_train=np.load(\"/content/drive/MyDrive/Deep Learning/df_im.npy\")\n",
        "x_test=np.load(\"/content/drive/MyDrive/Deep Learning/df_im_test.npy\")\n",
        "y_train=df_train['ClassId']\n",
        "y_test=df_test['ClassId']\n",
        "y_test=y_test.astype(int)\n",
        "\n",
        "accuracies_k10=[]\n",
        "for i in trange(1,10):\n",
        "\n",
        "  x_train_lab, x_test_unlab, y_train_lab, y_test_unlab = train_test_split(x_train, y_train, test_size=i/10, random_state=1, stratify=y_train)\n",
        "  print(i/100)\n",
        "  x_train_mixed = np.concatenate((x_train_lab, x_test_unlab))\n",
        "  nolabel = [-1 for _ in range(len(y_test_unlab))]\n",
        "  y_train_mixed = np.concatenate((y_train_lab, nolabel))\n",
        "  y_train_mixed=y_train_mixed.astype(int)\n",
        "\n",
        "  model = LabelSpreading(kernel='knn',n_neighbors=10)\n",
        "  model.fit(x_train_mixed, y_train_mixed)\n",
        "\n",
        "  y_pred=model.predict(x_test)\n",
        "\n",
        "  y_test=pd.DataFrame(y_test,columns=['ClassId'])\n",
        "  y_test['ClassId']=y_test['ClassId'].astype(int)\n",
        "  y_pred=pd.DataFrame(y_pred,columns=['ClassId'])\n",
        "  y_pred['ClassId']=y_pred['ClassId'].astype(int)\n",
        "  a=abs(y_pred-y_test).value_counts()/len(y_test)\n",
        "  accuracies_k10.append(a[0])\n"
      ],
      "metadata": {
        "colab": {
          "base_uri": "https://localhost:8080/"
        },
        "id": "gitVJysmRroT",
        "outputId": "46e8a54c-3627-4e52-f5b3-7943cb018f40"
      },
      "execution_count": 17,
      "outputs": [
        {
          "output_type": "stream",
          "name": "stderr",
          "text": [
            "\r  0%|          | 0/9 [00:00<?, ?it/s]"
          ]
        },
        {
          "output_type": "stream",
          "name": "stdout",
          "text": [
            "0.01\n"
          ]
        },
        {
          "output_type": "stream",
          "name": "stderr",
          "text": [
            "/usr/local/lib/python3.8/dist-packages/sklearn/semi_supervised/_label_propagation.py:222: RuntimeWarning: invalid value encountered in true_divide\n",
            "  probabilities /= normalizer\n",
            "\r 11%|█         | 1/9 [06:46<54:13, 406.64s/it]"
          ]
        },
        {
          "output_type": "stream",
          "name": "stdout",
          "text": [
            "0.02\n"
          ]
        },
        {
          "output_type": "stream",
          "name": "stderr",
          "text": [
            "/usr/local/lib/python3.8/dist-packages/sklearn/semi_supervised/_label_propagation.py:222: RuntimeWarning: invalid value encountered in true_divide\n",
            "  probabilities /= normalizer\n",
            "\r 22%|██▏       | 2/9 [13:29<47:12, 404.70s/it]"
          ]
        },
        {
          "output_type": "stream",
          "name": "stdout",
          "text": [
            "0.03\n"
          ]
        },
        {
          "output_type": "stream",
          "name": "stderr",
          "text": [
            "/usr/local/lib/python3.8/dist-packages/sklearn/semi_supervised/_label_propagation.py:222: RuntimeWarning: invalid value encountered in true_divide\n",
            "  probabilities /= normalizer\n",
            "\r 33%|███▎      | 3/9 [20:11<40:19, 403.31s/it]"
          ]
        },
        {
          "output_type": "stream",
          "name": "stdout",
          "text": [
            "0.04\n"
          ]
        },
        {
          "output_type": "stream",
          "name": "stderr",
          "text": [
            "/usr/local/lib/python3.8/dist-packages/sklearn/semi_supervised/_label_propagation.py:222: RuntimeWarning: invalid value encountered in true_divide\n",
            "  probabilities /= normalizer\n",
            "\r 44%|████▍     | 4/9 [26:55<33:37, 403.46s/it]"
          ]
        },
        {
          "output_type": "stream",
          "name": "stdout",
          "text": [
            "0.05\n"
          ]
        },
        {
          "output_type": "stream",
          "name": "stderr",
          "text": [
            "/usr/local/lib/python3.8/dist-packages/sklearn/semi_supervised/_label_propagation.py:222: RuntimeWarning: invalid value encountered in true_divide\n",
            "  probabilities /= normalizer\n",
            "\r 56%|█████▌    | 5/9 [33:40<26:55, 403.94s/it]"
          ]
        },
        {
          "output_type": "stream",
          "name": "stdout",
          "text": [
            "0.06\n"
          ]
        },
        {
          "output_type": "stream",
          "name": "stderr",
          "text": [
            "/usr/local/lib/python3.8/dist-packages/sklearn/semi_supervised/_label_propagation.py:222: RuntimeWarning: invalid value encountered in true_divide\n",
            "  probabilities /= normalizer\n",
            "\r 67%|██████▋   | 6/9 [40:21<20:09, 403.20s/it]"
          ]
        },
        {
          "output_type": "stream",
          "name": "stdout",
          "text": [
            "0.07\n"
          ]
        },
        {
          "output_type": "stream",
          "name": "stderr",
          "text": [
            "/usr/local/lib/python3.8/dist-packages/sklearn/semi_supervised/_label_propagation.py:222: RuntimeWarning: invalid value encountered in true_divide\n",
            "  probabilities /= normalizer\n",
            "\r 78%|███████▊  | 7/9 [47:04<13:26, 403.10s/it]"
          ]
        },
        {
          "output_type": "stream",
          "name": "stdout",
          "text": [
            "0.08\n"
          ]
        },
        {
          "output_type": "stream",
          "name": "stderr",
          "text": [
            "/usr/local/lib/python3.8/dist-packages/sklearn/semi_supervised/_label_propagation.py:222: RuntimeWarning: invalid value encountered in true_divide\n",
            "  probabilities /= normalizer\n",
            "\r 89%|████████▉ | 8/9 [53:45<06:42, 402.38s/it]"
          ]
        },
        {
          "output_type": "stream",
          "name": "stdout",
          "text": [
            "0.09\n"
          ]
        },
        {
          "output_type": "stream",
          "name": "stderr",
          "text": [
            "/usr/local/lib/python3.8/dist-packages/sklearn/semi_supervised/_label_propagation.py:222: RuntimeWarning: invalid value encountered in true_divide\n",
            "  probabilities /= normalizer\n",
            "100%|██████████| 9/9 [1:00:26<00:00, 402.97s/it]\n",
            "  0%|          | 0/9 [00:00<?, ?it/s]"
          ]
        },
        {
          "output_type": "stream",
          "name": "stdout",
          "text": [
            "0.01\n"
          ]
        },
        {
          "output_type": "stream",
          "name": "stderr",
          "text": [
            "\r 11%|█         | 1/9 [07:00<56:06, 420.75s/it]"
          ]
        },
        {
          "output_type": "stream",
          "name": "stdout",
          "text": [
            "0.02\n"
          ]
        },
        {
          "output_type": "stream",
          "name": "stderr",
          "text": [
            "\r 22%|██▏       | 2/9 [13:56<48:45, 417.90s/it]"
          ]
        },
        {
          "output_type": "stream",
          "name": "stdout",
          "text": [
            "0.03\n"
          ]
        },
        {
          "output_type": "stream",
          "name": "stderr",
          "text": [
            "\r 33%|███▎      | 3/9 [20:49<41:32, 415.44s/it]"
          ]
        },
        {
          "output_type": "stream",
          "name": "stdout",
          "text": [
            "0.04\n"
          ]
        },
        {
          "output_type": "stream",
          "name": "stderr",
          "text": [
            "\r 44%|████▍     | 4/9 [27:48<34:44, 416.99s/it]"
          ]
        },
        {
          "output_type": "stream",
          "name": "stdout",
          "text": [
            "0.05\n"
          ]
        },
        {
          "output_type": "stream",
          "name": "stderr",
          "text": [
            "\r 56%|█████▌    | 5/9 [34:52<27:57, 419.45s/it]"
          ]
        },
        {
          "output_type": "stream",
          "name": "stdout",
          "text": [
            "0.06\n"
          ]
        },
        {
          "output_type": "stream",
          "name": "stderr",
          "text": [
            "\r 67%|██████▋   | 6/9 [41:50<20:57, 419.14s/it]"
          ]
        },
        {
          "output_type": "stream",
          "name": "stdout",
          "text": [
            "0.07\n"
          ]
        },
        {
          "output_type": "stream",
          "name": "stderr",
          "text": [
            "\r 78%|███████▊  | 7/9 [48:47<13:56, 418.19s/it]"
          ]
        },
        {
          "output_type": "stream",
          "name": "stdout",
          "text": [
            "0.08\n"
          ]
        },
        {
          "output_type": "stream",
          "name": "stderr",
          "text": [
            "\r 89%|████████▉ | 8/9 [55:48<06:59, 419.06s/it]"
          ]
        },
        {
          "output_type": "stream",
          "name": "stdout",
          "text": [
            "0.09\n"
          ]
        },
        {
          "output_type": "stream",
          "name": "stderr",
          "text": [
            "/usr/local/lib/python3.8/dist-packages/sklearn/semi_supervised/_label_propagation.py:222: RuntimeWarning: invalid value encountered in true_divide\n",
            "  probabilities /= normalizer\n",
            "100%|██████████| 9/9 [1:02:45<00:00, 418.42s/it]\n"
          ]
        }
      ]
    },
    {
      "cell_type": "code",
      "source": [
        "plt.plot(accuracies_k2)\n",
        "plt.xlabel('% of non-labelled data')\n",
        "plt.ylabel('Accuracy in %')\n",
        "plt.title('Accuracy depending on the non-labelled data size (k=2)')"
      ],
      "metadata": {
        "colab": {
          "base_uri": "https://localhost:8080/",
          "height": 312
        },
        "id": "bZJBSv_jlDDl",
        "outputId": "a74db6a7-c564-40f7-e67c-0d4591417c7a"
      },
      "execution_count": 18,
      "outputs": [
        {
          "output_type": "execute_result",
          "data": {
            "text/plain": [
              "Text(0.5, 1.0, 'Accuracy depending on the non-labelled data size (k=2)')"
            ]
          },
          "metadata": {},
          "execution_count": 18
        },
        {
          "output_type": "display_data",
          "data": {
            "text/plain": [
              "<Figure size 432x288 with 1 Axes>"
            ],
            "image/png": "[encoded data removed]"
          },
          "metadata": {
            "needs_background": "light"
          }
        }
      ]
    },
    {
      "cell_type": "code",
      "source": [
        "plt.plot(accuracies_k10)\n",
        "plt.xlabel('% of non-labelled data')\n",
        "plt.ylabel('Accuracy in %')\n",
        "plt.title('Accuracy depending on the non-labelled data size (k=10)')"
      ],
      "metadata": {
        "colab": {
          "base_uri": "https://localhost:8080/",
          "height": 312
        },
        "id": "_4Qs1UNj-esF",
        "outputId": "a83de45d-97f6-4a91-ec58-02d166650519"
      },
      "execution_count": 19,
      "outputs": [
        {
          "output_type": "execute_result",
          "data": {
            "text/plain": [
              "Text(0.5, 1.0, 'Accuracy depending on the non-labelled data size (k=10)')"
            ]
          },
          "metadata": {},
          "execution_count": 19
        },
        {
          "output_type": "display_data",
          "data": {
            "text/plain": [
              "<Figure size 432x288 with 1 Axes>"
            ],
            "image/png": "[encoded data removed]"
          },
          "metadata": {
            "needs_background": "light"
          }
        }
      ]
    }
  ]
}